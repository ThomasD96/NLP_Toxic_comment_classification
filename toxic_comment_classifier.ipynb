{
 "cells": [
  {
   "cell_type": "markdown",
   "metadata": {},
   "source": [
    "# Toxic Comment Classification Challenge: Kaggle\n",
    "[Link to the Kaggle competition page](https://www.kaggle.com/c/jigsaw-toxic-comment-classification-challenge)\n",
    "\n",
    "The dataset consists of a large set of user comments from Wikipedia’s talk page edits. Some of the users, unfortuantely resort to threats, and abusive behaviour and racism to get their point across. Each of the comments in this dataset is labelled as toxic, severee toxic, obscene, threat, identity hate, or clean.\n",
    "\n",
    "This is a classic text classification problem (also falls under sentiment analysis), where one is given a corpus of text documents with labelled classes, and one has to perform supervised machine learning to first train the data, and then classify unseen documents. This will help the mods to hopefully weed out hateful comments in the future from the comment section with the help of machine learning.\n"
   ]
  },
  {
   "cell_type": "code",
   "execution_count": 1,
   "metadata": {},
   "outputs": [],
   "source": [
    "# Import the necessary libraries\n",
    "import pandas as pd\n",
    "import re\n",
    "import numpy as np\n",
    "import matplotlib.pyplot as plt\n",
    "import seaborn as sns\n",
    "%matplotlib inline\n",
    "\n",
    "from IPython.display import display, HTML\n",
    "\n",
    "from nltk.corpus import stopwords\n",
    "from nltk.stem import WordNetLemmatizer\n",
    "from nltk.tokenize import word_tokenize, RegexpTokenizer\n",
    "from nltk import pos_tag\n",
    "from nltk.corpus import wordnet\n",
    "\n",
    "import gensim\n",
    "from gensim.models.ldamodel import LdaModel\n",
    "from gensim.corpora import Dictionary\n",
    "\n",
    "from sklearn.svm import SVC\n",
    "from sklearn.naive_bayes import MultinomialNB, GaussianNB\n",
    "\n",
    "import string \n",
    "punctuation_set = set(string.punctuation)\n",
    "\n",
    "import warnings\n",
    "warnings.filterwarnings(\"ignore\", category=DeprecationWarning)"
   ]
  },
  {
   "cell_type": "markdown",
   "metadata": {},
   "source": [
    "#### Load the train and test datasets and take a peek"
   ]
  },
  {
   "cell_type": "code",
   "execution_count": 2,
   "metadata": {},
   "outputs": [],
   "source": [
    "train = pd.read_csv('train.csv')"
   ]
  },
  {
   "cell_type": "code",
   "execution_count": 3,
   "metadata": {},
   "outputs": [],
   "source": [
    "test = pd.read_csv('test.csv')"
   ]
  },
  {
   "cell_type": "code",
   "execution_count": 4,
   "metadata": {},
   "outputs": [
    {
     "data": {
      "text/html": [
       "<div>\n",
       "<style scoped>\n",
       "    .dataframe tbody tr th:only-of-type {\n",
       "        vertical-align: middle;\n",
       "    }\n",
       "\n",
       "    .dataframe tbody tr th {\n",
       "        vertical-align: top;\n",
       "    }\n",
       "\n",
       "    .dataframe thead th {\n",
       "        text-align: right;\n",
       "    }\n",
       "</style>\n",
       "<table border=\"1\" class=\"dataframe\">\n",
       "  <thead>\n",
       "    <tr style=\"text-align: right;\">\n",
       "      <th></th>\n",
       "      <th>id</th>\n",
       "      <th>comment_text</th>\n",
       "      <th>toxic</th>\n",
       "      <th>severe_toxic</th>\n",
       "      <th>obscene</th>\n",
       "      <th>threat</th>\n",
       "      <th>insult</th>\n",
       "      <th>identity_hate</th>\n",
       "    </tr>\n",
       "  </thead>\n",
       "  <tbody>\n",
       "    <tr>\n",
       "      <th>0</th>\n",
       "      <td>0000997932d777bf</td>\n",
       "      <td>Explanation\\nWhy the edits made under my usern...</td>\n",
       "      <td>0</td>\n",
       "      <td>0</td>\n",
       "      <td>0</td>\n",
       "      <td>0</td>\n",
       "      <td>0</td>\n",
       "      <td>0</td>\n",
       "    </tr>\n",
       "    <tr>\n",
       "      <th>1</th>\n",
       "      <td>000103f0d9cfb60f</td>\n",
       "      <td>D'aww! He matches this background colour I'm s...</td>\n",
       "      <td>0</td>\n",
       "      <td>0</td>\n",
       "      <td>0</td>\n",
       "      <td>0</td>\n",
       "      <td>0</td>\n",
       "      <td>0</td>\n",
       "    </tr>\n",
       "    <tr>\n",
       "      <th>2</th>\n",
       "      <td>000113f07ec002fd</td>\n",
       "      <td>Hey man, I'm really not trying to edit war. It...</td>\n",
       "      <td>0</td>\n",
       "      <td>0</td>\n",
       "      <td>0</td>\n",
       "      <td>0</td>\n",
       "      <td>0</td>\n",
       "      <td>0</td>\n",
       "    </tr>\n",
       "    <tr>\n",
       "      <th>3</th>\n",
       "      <td>0001b41b1c6bb37e</td>\n",
       "      <td>\"\\nMore\\nI can't make any real suggestions on ...</td>\n",
       "      <td>0</td>\n",
       "      <td>0</td>\n",
       "      <td>0</td>\n",
       "      <td>0</td>\n",
       "      <td>0</td>\n",
       "      <td>0</td>\n",
       "    </tr>\n",
       "    <tr>\n",
       "      <th>4</th>\n",
       "      <td>0001d958c54c6e35</td>\n",
       "      <td>You, sir, are my hero. Any chance you remember...</td>\n",
       "      <td>0</td>\n",
       "      <td>0</td>\n",
       "      <td>0</td>\n",
       "      <td>0</td>\n",
       "      <td>0</td>\n",
       "      <td>0</td>\n",
       "    </tr>\n",
       "  </tbody>\n",
       "</table>\n",
       "</div>"
      ],
      "text/plain": [
       "                 id                                       comment_text  toxic  \\\n",
       "0  0000997932d777bf  Explanation\\nWhy the edits made under my usern...      0   \n",
       "1  000103f0d9cfb60f  D'aww! He matches this background colour I'm s...      0   \n",
       "2  000113f07ec002fd  Hey man, I'm really not trying to edit war. It...      0   \n",
       "3  0001b41b1c6bb37e  \"\\nMore\\nI can't make any real suggestions on ...      0   \n",
       "4  0001d958c54c6e35  You, sir, are my hero. Any chance you remember...      0   \n",
       "\n",
       "   severe_toxic  obscene  threat  insult  identity_hate  \n",
       "0             0        0       0       0              0  \n",
       "1             0        0       0       0              0  \n",
       "2             0        0       0       0              0  \n",
       "3             0        0       0       0              0  \n",
       "4             0        0       0       0              0  "
      ]
     },
     "execution_count": 4,
     "metadata": {},
     "output_type": "execute_result"
    }
   ],
   "source": [
    "train.head()"
   ]
  },
  {
   "cell_type": "code",
   "execution_count": 5,
   "metadata": {},
   "outputs": [
    {
     "name": "stdout",
     "output_type": "stream",
     "text": [
      "<class 'pandas.core.frame.DataFrame'>\n",
      "RangeIndex: 159571 entries, 0 to 159570\n",
      "Data columns (total 8 columns):\n",
      "id               159571 non-null object\n",
      "comment_text     159571 non-null object\n",
      "toxic            159571 non-null int64\n",
      "severe_toxic     159571 non-null int64\n",
      "obscene          159571 non-null int64\n",
      "threat           159571 non-null int64\n",
      "insult           159571 non-null int64\n",
      "identity_hate    159571 non-null int64\n",
      "dtypes: int64(6), object(2)\n",
      "memory usage: 9.7+ MB\n"
     ]
    }
   ],
   "source": [
    "train.info()"
   ]
  },
  {
   "cell_type": "markdown",
   "metadata": {},
   "source": [
    " - No missing values! How many times do you get that? All the non-toxic text is already labelled as 0."
   ]
  },
  {
   "cell_type": "markdown",
   "metadata": {},
   "source": [
    "### Distribution of hate comments"
   ]
  },
  {
   "cell_type": "code",
   "execution_count": 6,
   "metadata": {},
   "outputs": [
    {
     "name": "stdout",
     "output_type": "stream",
     "text": [
      "Total number of hate texts = 16225, out of 159571\n",
      "Total number of clean comments: 143346, out of 159571\n"
     ]
    }
   ],
   "source": [
    "count_labels_ser = train.select_dtypes(include=np.number).sum(axis=0)\n",
    "#data.select_dtypes(include=np.number).isin([1]).any(axis=1).sum()\n",
    "sum_toxic_comments = train.select_dtypes(include=np.number).apply(lambda row: any(row) == 1, axis=1).sum()\n",
    "print('Total number of hate texts = {}, out of {}'.format(sum_toxic_comments, train.shape[0]))\n",
    "print('Total number of clean comments: {}, out of {}'.format(train.shape[0] - sum_toxic_comments, train.shape[0]))"
   ]
  },
  {
   "cell_type": "code",
   "execution_count": 7,
   "metadata": {},
   "outputs": [
    {
     "data": {
      "image/png": "[encoded data removed]",
      "text/plain": [
       "<Figure size 864x432 with 1 Axes>"
      ]
     },
     "metadata": {
      "needs_background": "light"
     },
     "output_type": "display_data"
    }
   ],
   "source": [
    "fig = plt.figure(figsize=(12,6))\n",
    "_=sns.barplot(x=count_labels_ser.index,y=count_labels_ser/count_labels_ser.sum()*100)\n",
    "_=plt.xlabel('label')\n",
    "_=plt.ylabel('%age of occurence')"
   ]
  },
  {
   "cell_type": "markdown",
   "metadata": {},
   "source": [
    "The data set is imbalanced, as you would expect. There are much fewer `severe_toxic` and `threat` comments than there are plain `toxic` ones.\n",
    "Please note that that we have considered only those comments which have at least one of the toxicity flags set to 1. In other words, the clean (non-toxic) comments are not considered while calcualting the percentage.\n",
    "\n",
    "- Next we will take a look at some random comments from each class of toxicity."
   ]
  },
  {
   "cell_type": "code",
   "execution_count": 8,
   "metadata": {},
   "outputs": [
    {
     "name": "stdout",
     "output_type": "stream",
     "text": [
      "Example of toxic text\n",
      " Haha, after looking at your talk page, its clear that you're a fucking idiot!! Do you work for Kraft foods or Pfizer or something? You should be banned from the internet for trying to spread lies. You are a worthless human being, and should be ashamed. Go eat some Doritos, moron. \n",
      "\n",
      "Example of severe_toxic text\n",
      " fuck you cunt  \n",
      "\n",
      "block me go a head you cunt licker \n",
      "\n",
      "Example of obscene text\n",
      " Idoit \n",
      "\n",
      "you're a bloody moron. 122.57.32.65 \n",
      "\n",
      "Example of threat text\n",
      " Mmmm... yes... a pint of palestinian blood would be a fine dessert right now. -  talk/email \n",
      "\n",
      "Example of insult text\n",
      " way to be racist \n",
      "\n",
      "racist asshole \n",
      "\n",
      "Example of identity_hate text\n",
      " I HATE YOU KAFZIEL, GO SUCK A DICK MAN, YOUR MOM IS A CUNT AND YOU DAD HAS A SMALL DICK, GO FIND YOURSELF A LIFE SOMEDAY MAN \n",
      "\n"
     ]
    }
   ],
   "source": [
    "class_names = ['toxic', 'severe_toxic', 'obscene', 'threat', 'insult', 'identity_hate']\n",
    "for class_name in class_names:\n",
    "    rand_text = np.random.choice(train[train[class_name]==1].index,size=1)[0] # Select a random comment from each class\n",
    "    print('Example of {} text\\n'.format(class_name), train.iloc[rand_text,1],'\\n')"
   ]
  },
  {
   "cell_type": "markdown",
   "metadata": {},
   "source": [
    "#### Lot of hate lurking there, beware!"
   ]
  },
  {
   "cell_type": "markdown",
   "metadata": {},
   "source": [
    "- A particular comment can have multiple labels for 'toxicity'. For e.g. a comment can be both *toxic* and *obscene* at the same time.Taka a look at such a comment below."
   ]
  },
  {
   "cell_type": "code",
   "execution_count": 9,
   "metadata": {},
   "outputs": [
    {
     "data": {
      "text/plain": [
       "id                                           0002bcb3da6cb337\n",
       "comment_text     COCKSUCKER BEFORE YOU PISS AROUND ON MY WORK\n",
       "toxic                                                       1\n",
       "severe_toxic                                                1\n",
       "obscene                                                     1\n",
       "threat                                                      0\n",
       "insult                                                      1\n",
       "identity_hate                                               0\n",
       "Name: 6, dtype: object"
      ]
     },
     "execution_count": 9,
     "metadata": {},
     "output_type": "execute_result"
    }
   ],
   "source": [
    "train.iloc[6]"
   ]
  },
  {
   "cell_type": "markdown",
   "metadata": {},
   "source": [
    "How to find out the number of comments that are cross-labelled? A cross-tabulation of the counts (which is explored here) is one way, there might be better ways as well. \n",
    "- What you find is that there there is a huge overlap of severe_toxic, obscene, threat, etc. texts with toxic comments. This is also somewhat expected, obviously you expect a *severe toxic* comment to be *toxic* in the first place. \n",
    "- Similarly, only ~6% of all obscene comments are not labelled as toxic."
   ]
  },
  {
   "cell_type": "code",
   "execution_count": 10,
   "metadata": {},
   "outputs": [
    {
     "data": {
      "text/html": [
       "<div>\n",
       "<style scoped>\n",
       "    .dataframe tbody tr th:only-of-type {\n",
       "        vertical-align: middle;\n",
       "    }\n",
       "\n",
       "    .dataframe tbody tr th {\n",
       "        vertical-align: top;\n",
       "    }\n",
       "\n",
       "    .dataframe thead th {\n",
       "        text-align: right;\n",
       "    }\n",
       "</style>\n",
       "<table border=\"1\" class=\"dataframe\">\n",
       "  <thead>\n",
       "    <tr style=\"text-align: right;\">\n",
       "      <th>severe_toxic</th>\n",
       "      <th>0</th>\n",
       "      <th>1</th>\n",
       "      <th>All</th>\n",
       "    </tr>\n",
       "    <tr>\n",
       "      <th>toxic</th>\n",
       "      <th></th>\n",
       "      <th></th>\n",
       "      <th></th>\n",
       "    </tr>\n",
       "  </thead>\n",
       "  <tbody>\n",
       "    <tr>\n",
       "      <th>0</th>\n",
       "      <td>144277</td>\n",
       "      <td>0</td>\n",
       "      <td>144277</td>\n",
       "    </tr>\n",
       "    <tr>\n",
       "      <th>1</th>\n",
       "      <td>13699</td>\n",
       "      <td>1595</td>\n",
       "      <td>15294</td>\n",
       "    </tr>\n",
       "    <tr>\n",
       "      <th>All</th>\n",
       "      <td>157976</td>\n",
       "      <td>1595</td>\n",
       "      <td>159571</td>\n",
       "    </tr>\n",
       "  </tbody>\n",
       "</table>\n",
       "</div>"
      ],
      "text/plain": [
       "severe_toxic       0     1     All\n",
       "toxic                             \n",
       "0             144277     0  144277\n",
       "1              13699  1595   15294\n",
       "All           157976  1595  159571"
      ]
     },
     "metadata": {},
     "output_type": "display_data"
    },
    {
     "data": {
      "text/html": [
       "<div>\n",
       "<style scoped>\n",
       "    .dataframe tbody tr th:only-of-type {\n",
       "        vertical-align: middle;\n",
       "    }\n",
       "\n",
       "    .dataframe tbody tr th {\n",
       "        vertical-align: top;\n",
       "    }\n",
       "\n",
       "    .dataframe thead th {\n",
       "        text-align: right;\n",
       "    }\n",
       "</style>\n",
       "<table border=\"1\" class=\"dataframe\">\n",
       "  <thead>\n",
       "    <tr style=\"text-align: right;\">\n",
       "      <th>obscene</th>\n",
       "      <th>0</th>\n",
       "      <th>1</th>\n",
       "      <th>All</th>\n",
       "    </tr>\n",
       "    <tr>\n",
       "      <th>toxic</th>\n",
       "      <th></th>\n",
       "      <th></th>\n",
       "      <th></th>\n",
       "    </tr>\n",
       "  </thead>\n",
       "  <tbody>\n",
       "    <tr>\n",
       "      <th>0</th>\n",
       "      <td>143754</td>\n",
       "      <td>523</td>\n",
       "      <td>144277</td>\n",
       "    </tr>\n",
       "    <tr>\n",
       "      <th>1</th>\n",
       "      <td>7368</td>\n",
       "      <td>7926</td>\n",
       "      <td>15294</td>\n",
       "    </tr>\n",
       "    <tr>\n",
       "      <th>All</th>\n",
       "      <td>151122</td>\n",
       "      <td>8449</td>\n",
       "      <td>159571</td>\n",
       "    </tr>\n",
       "  </tbody>\n",
       "</table>\n",
       "</div>"
      ],
      "text/plain": [
       "obscene       0     1     All\n",
       "toxic                        \n",
       "0        143754   523  144277\n",
       "1          7368  7926   15294\n",
       "All      151122  8449  159571"
      ]
     },
     "metadata": {},
     "output_type": "display_data"
    },
    {
     "data": {
      "text/html": [
       "<div>\n",
       "<style scoped>\n",
       "    .dataframe tbody tr th:only-of-type {\n",
       "        vertical-align: middle;\n",
       "    }\n",
       "\n",
       "    .dataframe tbody tr th {\n",
       "        vertical-align: top;\n",
       "    }\n",
       "\n",
       "    .dataframe thead th {\n",
       "        text-align: right;\n",
       "    }\n",
       "</style>\n",
       "<table border=\"1\" class=\"dataframe\">\n",
       "  <thead>\n",
       "    <tr style=\"text-align: right;\">\n",
       "      <th>threat</th>\n",
       "      <th>0</th>\n",
       "      <th>1</th>\n",
       "      <th>All</th>\n",
       "    </tr>\n",
       "    <tr>\n",
       "      <th>toxic</th>\n",
       "      <th></th>\n",
       "      <th></th>\n",
       "      <th></th>\n",
       "    </tr>\n",
       "  </thead>\n",
       "  <tbody>\n",
       "    <tr>\n",
       "      <th>0</th>\n",
       "      <td>144248</td>\n",
       "      <td>29</td>\n",
       "      <td>144277</td>\n",
       "    </tr>\n",
       "    <tr>\n",
       "      <th>1</th>\n",
       "      <td>14845</td>\n",
       "      <td>449</td>\n",
       "      <td>15294</td>\n",
       "    </tr>\n",
       "    <tr>\n",
       "      <th>All</th>\n",
       "      <td>159093</td>\n",
       "      <td>478</td>\n",
       "      <td>159571</td>\n",
       "    </tr>\n",
       "  </tbody>\n",
       "</table>\n",
       "</div>"
      ],
      "text/plain": [
       "threat       0    1     All\n",
       "toxic                      \n",
       "0       144248   29  144277\n",
       "1        14845  449   15294\n",
       "All     159093  478  159571"
      ]
     },
     "metadata": {},
     "output_type": "display_data"
    },
    {
     "data": {
      "text/html": [
       "<div>\n",
       "<style scoped>\n",
       "    .dataframe tbody tr th:only-of-type {\n",
       "        vertical-align: middle;\n",
       "    }\n",
       "\n",
       "    .dataframe tbody tr th {\n",
       "        vertical-align: top;\n",
       "    }\n",
       "\n",
       "    .dataframe thead th {\n",
       "        text-align: right;\n",
       "    }\n",
       "</style>\n",
       "<table border=\"1\" class=\"dataframe\">\n",
       "  <thead>\n",
       "    <tr style=\"text-align: right;\">\n",
       "      <th>insult</th>\n",
       "      <th>0</th>\n",
       "      <th>1</th>\n",
       "      <th>All</th>\n",
       "    </tr>\n",
       "    <tr>\n",
       "      <th>toxic</th>\n",
       "      <th></th>\n",
       "      <th></th>\n",
       "      <th></th>\n",
       "    </tr>\n",
       "  </thead>\n",
       "  <tbody>\n",
       "    <tr>\n",
       "      <th>0</th>\n",
       "      <td>143744</td>\n",
       "      <td>533</td>\n",
       "      <td>144277</td>\n",
       "    </tr>\n",
       "    <tr>\n",
       "      <th>1</th>\n",
       "      <td>7950</td>\n",
       "      <td>7344</td>\n",
       "      <td>15294</td>\n",
       "    </tr>\n",
       "    <tr>\n",
       "      <th>All</th>\n",
       "      <td>151694</td>\n",
       "      <td>7877</td>\n",
       "      <td>159571</td>\n",
       "    </tr>\n",
       "  </tbody>\n",
       "</table>\n",
       "</div>"
      ],
      "text/plain": [
       "insult       0     1     All\n",
       "toxic                       \n",
       "0       143744   533  144277\n",
       "1         7950  7344   15294\n",
       "All     151694  7877  159571"
      ]
     },
     "metadata": {},
     "output_type": "display_data"
    },
    {
     "data": {
      "text/html": [
       "<div>\n",
       "<style scoped>\n",
       "    .dataframe tbody tr th:only-of-type {\n",
       "        vertical-align: middle;\n",
       "    }\n",
       "\n",
       "    .dataframe tbody tr th {\n",
       "        vertical-align: top;\n",
       "    }\n",
       "\n",
       "    .dataframe thead th {\n",
       "        text-align: right;\n",
       "    }\n",
       "</style>\n",
       "<table border=\"1\" class=\"dataframe\">\n",
       "  <thead>\n",
       "    <tr style=\"text-align: right;\">\n",
       "      <th>identity_hate</th>\n",
       "      <th>0</th>\n",
       "      <th>1</th>\n",
       "      <th>All</th>\n",
       "    </tr>\n",
       "    <tr>\n",
       "      <th>toxic</th>\n",
       "      <th></th>\n",
       "      <th></th>\n",
       "      <th></th>\n",
       "    </tr>\n",
       "  </thead>\n",
       "  <tbody>\n",
       "    <tr>\n",
       "      <th>0</th>\n",
       "      <td>144174</td>\n",
       "      <td>103</td>\n",
       "      <td>144277</td>\n",
       "    </tr>\n",
       "    <tr>\n",
       "      <th>1</th>\n",
       "      <td>13992</td>\n",
       "      <td>1302</td>\n",
       "      <td>15294</td>\n",
       "    </tr>\n",
       "    <tr>\n",
       "      <th>All</th>\n",
       "      <td>158166</td>\n",
       "      <td>1405</td>\n",
       "      <td>159571</td>\n",
       "    </tr>\n",
       "  </tbody>\n",
       "</table>\n",
       "</div>"
      ],
      "text/plain": [
       "identity_hate       0     1     All\n",
       "toxic                              \n",
       "0              144174   103  144277\n",
       "1               13992  1302   15294\n",
       "All            158166  1405  159571"
      ]
     },
     "metadata": {},
     "output_type": "display_data"
    }
   ],
   "source": [
    "for col in train.columns[3:]:\n",
    "    display(pd.crosstab(train['toxic'],train[col], margins=True))"
   ]
  },
  {
   "cell_type": "markdown",
   "metadata": {},
   "source": [
    "### Are the toxic comments longer or shorter than the clean, civilized ones?"
   ]
  },
  {
   "cell_type": "code",
   "execution_count": 11,
   "metadata": {},
   "outputs": [
    {
     "data": {
      "text/html": [
       "<div>\n",
       "<style scoped>\n",
       "    .dataframe tbody tr th:only-of-type {\n",
       "        vertical-align: middle;\n",
       "    }\n",
       "\n",
       "    .dataframe tbody tr th {\n",
       "        vertical-align: top;\n",
       "    }\n",
       "\n",
       "    .dataframe thead th {\n",
       "        text-align: right;\n",
       "    }\n",
       "</style>\n",
       "<table border=\"1\" class=\"dataframe\">\n",
       "  <thead>\n",
       "    <tr style=\"text-align: right;\">\n",
       "      <th></th>\n",
       "      <th>id</th>\n",
       "      <th>comment_text</th>\n",
       "      <th>toxic</th>\n",
       "      <th>severe_toxic</th>\n",
       "      <th>obscene</th>\n",
       "      <th>threat</th>\n",
       "      <th>insult</th>\n",
       "      <th>identity_hate</th>\n",
       "      <th>len_comment</th>\n",
       "    </tr>\n",
       "  </thead>\n",
       "  <tbody>\n",
       "    <tr>\n",
       "      <th>6</th>\n",
       "      <td>0002bcb3da6cb337</td>\n",
       "      <td>COCKSUCKER BEFORE YOU PISS AROUND ON MY WORK</td>\n",
       "      <td>1</td>\n",
       "      <td>1</td>\n",
       "      <td>1</td>\n",
       "      <td>0</td>\n",
       "      <td>1</td>\n",
       "      <td>0</td>\n",
       "      <td>44</td>\n",
       "    </tr>\n",
       "    <tr>\n",
       "      <th>12</th>\n",
       "      <td>0005c987bdfc9d4b</td>\n",
       "      <td>Hey... what is it..\\n@ | talk .\\nWhat is it......</td>\n",
       "      <td>1</td>\n",
       "      <td>0</td>\n",
       "      <td>0</td>\n",
       "      <td>0</td>\n",
       "      <td>0</td>\n",
       "      <td>0</td>\n",
       "      <td>319</td>\n",
       "    </tr>\n",
       "    <tr>\n",
       "      <th>16</th>\n",
       "      <td>0007e25b2121310b</td>\n",
       "      <td>Bye! \\n\\nDon't look, come or think of comming ...</td>\n",
       "      <td>1</td>\n",
       "      <td>0</td>\n",
       "      <td>0</td>\n",
       "      <td>0</td>\n",
       "      <td>0</td>\n",
       "      <td>0</td>\n",
       "      <td>57</td>\n",
       "    </tr>\n",
       "    <tr>\n",
       "      <th>42</th>\n",
       "      <td>001810bf8c45bf5f</td>\n",
       "      <td>You are gay or antisemmitian? \\n\\nArchangel WH...</td>\n",
       "      <td>1</td>\n",
       "      <td>0</td>\n",
       "      <td>1</td>\n",
       "      <td>0</td>\n",
       "      <td>1</td>\n",
       "      <td>1</td>\n",
       "      <td>648</td>\n",
       "    </tr>\n",
       "    <tr>\n",
       "      <th>43</th>\n",
       "      <td>00190820581d90ce</td>\n",
       "      <td>FUCK YOUR FILTHY MOTHER IN THE ASS, DRY!</td>\n",
       "      <td>1</td>\n",
       "      <td>0</td>\n",
       "      <td>1</td>\n",
       "      <td>0</td>\n",
       "      <td>1</td>\n",
       "      <td>0</td>\n",
       "      <td>40</td>\n",
       "    </tr>\n",
       "  </tbody>\n",
       "</table>\n",
       "</div>"
      ],
      "text/plain": [
       "                  id                                       comment_text  \\\n",
       "6   0002bcb3da6cb337       COCKSUCKER BEFORE YOU PISS AROUND ON MY WORK   \n",
       "12  0005c987bdfc9d4b  Hey... what is it..\\n@ | talk .\\nWhat is it......   \n",
       "16  0007e25b2121310b  Bye! \\n\\nDon't look, come or think of comming ...   \n",
       "42  001810bf8c45bf5f  You are gay or antisemmitian? \\n\\nArchangel WH...   \n",
       "43  00190820581d90ce           FUCK YOUR FILTHY MOTHER IN THE ASS, DRY!   \n",
       "\n",
       "    toxic  severe_toxic  obscene  threat  insult  identity_hate  len_comment  \n",
       "6       1             1        1       0       1              0           44  \n",
       "12      1             0        0       0       0              0          319  \n",
       "16      1             0        0       0       0              0           57  \n",
       "42      1             0        1       0       1              1          648  \n",
       "43      1             0        1       0       1              0           40  "
      ]
     },
     "execution_count": 11,
     "metadata": {},
     "output_type": "execute_result"
    }
   ],
   "source": [
    "train['len_comment'] = train['comment_text'].apply(len)\n",
    "train.loc[train.iloc[:,2:8].sum(axis=1)>=1].head() #Displays the head of the first few rows that have at least one toxic box ticked"
   ]
  },
  {
   "cell_type": "code",
   "execution_count": 12,
   "metadata": {},
   "outputs": [
    {
     "name": "stdout",
     "output_type": "stream",
     "text": [
      "mean character length of toxic comments: 295.24604420034\n",
      "mean character length of clean comments: 404.5493391185012\n"
     ]
    },
    {
     "data": {
      "image/png": "[encoded data removed]",
      "text/plain": [
       "<Figure size 1080x432 with 2 Axes>"
      ]
     },
     "metadata": {},
     "output_type": "display_data"
    }
   ],
   "source": [
    "sns.set(palette='deep')\n",
    "fig, ax = plt.subplots(1,2,sharex=True, figsize=(15,6))\n",
    "_=sns.distplot(np.log10(train.loc[train.toxic==1,'len_comment']),kde=False, bins=15,ax=ax[0])\n",
    "_=ax[0].set_xlabel('log (character length of comments)')\n",
    "_=ax[0].set_ylabel('Count')\n",
    "_=ax[0].set_title('Toxic comments')\n",
    "\n",
    "_=sns.distplot(np.log10(train.loc[train.toxic==0,'len_comment']),kde=False, bins=15,ax=ax[1])\n",
    "_=ax[1].set_xlabel('log (character length of comments)')\n",
    "_=ax[1].set_title('Clean comments')\n",
    "print('mean character length of toxic comments: {}'.format(train.loc[train.toxic==1,'len_comment'].mean()))\n",
    "print('mean character length of clean comments: {}'.format(train.loc[train.toxic==0,'len_comment'].mean()))"
   ]
  },
  {
   "cell_type": "markdown",
   "metadata": {},
   "source": [
    "#### The clean comments are longer than the toxic comments."
   ]
  },
  {
   "cell_type": "code",
   "execution_count": 13,
   "metadata": {},
   "outputs": [],
   "source": [
    "train_text = train['comment_text']\n",
    "test_text = test['comment_text']"
   ]
  },
  {
   "cell_type": "markdown",
   "metadata": {},
   "source": [
    "## Text preprocessing\n",
    "\n",
    "This is a very crucial step in NLP. One has to represent the documents in the corpus as vectors containing numeric values. Why? Because the classification algorithm we will use to classify toxic comments does not understand text, it can only work with numbers. The following steps will be performed:\n",
    " - Converting each document to lowercase characters.\n",
    " - Removing punctuations.\n",
    " - Tokenizing: Split up a string in to its constituent tokens, in this case, words composed of English characters.\n",
    " - Removing English stopwords, like is, and, the, for, etc.\n",
    " - Lemmatization. This reduces words to their root form. For e.g. *running* will be reduced to *run*, so will be *ran*. Lemmatization is slightly different to a related concept, stemming. \n",
    " "
   ]
  },
  {
   "cell_type": "code",
   "execution_count": 15,
   "metadata": {},
   "outputs": [],
   "source": [
    "stop_words = set(stopwords.words('english'))\n",
    "lemmatizer = WordNetLemmatizer()\n",
    "tokenizer = RegexpTokenizer(r'([a-zA-Z]+)') \n",
    "\n",
    "def get_wordnet_pos(word):\n",
    "    tag = pos_tag([word])[0][1][0].upper()\n",
    "    tag_dict = {\"J\": wordnet.ADJ,\n",
    "                \"N\": wordnet.NOUN,\n",
    "                \"V\": wordnet.VERB,\n",
    "                \"R\": wordnet.ADV}\n",
    "    return tag_dict.get(tag, wordnet.NOUN)\n",
    "\n",
    "\n",
    "def preprocess_comment(comment_str):\n",
    "    '''\n",
    "    This function preprocesses the comments and sets them up for vectorization.\n",
    "    Input: comment string\n",
    "    Returns: A string after converting the words to lowercase, removing punctuations, and lemmatizing each word\n",
    "    '''\n",
    "    comment=re.sub(r\"(\\d{1,3}\\.){1,3}\\d{1,3}\",\"\",comment_str)  #remove ip's\n",
    "    words = [word for word in tokenizer.tokenize(comment.lower()) if not word in stop_words]  # convert to lowercase and remove stopwords\n",
    "#    clean_words = [word for word in words if word not in punctuation_set] #remove puntuations\n",
    "    lemmatized_sentence = ' '.join([lemmatizer.lemmatize(word,pos = get_wordnet_pos(word)) for word in words if len(word)>2]) ## lemmatization\n",
    "    return lemmatized_sentence         "
   ]
  },
  {
   "cell_type": "code",
   "execution_count": 16,
   "metadata": {},
   "outputs": [
    {
     "name": "stdout",
     "output_type": "stream",
     "text": [
      "Original text:\n",
      " \"\n",
      " The only person claiming edit warring is you.  I urge you again to moderate your tone and abide by civility.   Padding Romm's entry with insubstantial fluff like what his brother does for a living and lengthy descriptions of projects he \"\"helped with\"\" has no place in an encyclopedia entry.   \"\n",
      "After cleaning:\n",
      " person claim edit war urge moderate tone abide civility pad romm entry insubstantial fluff like brother living lengthy description project help place encyclopedia entry\n"
     ]
    }
   ],
   "source": [
    "# An example\n",
    "print('Original text:\\n {}'.format(train_text[1010]))\n",
    "print('After cleaning:\\n {}'.format(preprocess_comment(train_text[1010])))"
   ]
  },
  {
   "cell_type": "code",
   "execution_count": 17,
   "metadata": {},
   "outputs": [],
   "source": [
    "train_text = train_text.apply(lambda comment: preprocess_comment(comment))"
   ]
  },
  {
   "cell_type": "code",
   "execution_count": 18,
   "metadata": {},
   "outputs": [],
   "source": [
    "test_text = test_text.apply(lambda comment: preprocess_comment(comment))"
   ]
  },
  {
   "cell_type": "markdown",
   "metadata": {},
   "source": [
    "## Classification"
   ]
  },
  {
   "cell_type": "code",
   "execution_count": 19,
   "metadata": {},
   "outputs": [],
   "source": [
    "from sklearn.feature_extraction.text import TfidfVectorizer, CountVectorizer\n",
    "from sklearn.linear_model import LogisticRegression\n",
    "from sklearn.model_selection import cross_val_score"
   ]
  },
  {
   "cell_type": "markdown",
   "metadata": {},
   "source": [
    "The first step before applying any ML technique is represent the text data as vectors in numeric format."
   ]
  },
  {
   "cell_type": "code",
   "execution_count": 20,
   "metadata": {},
   "outputs": [
    {
     "data": {
      "text/plain": [
       "TfidfVectorizer(analyzer='word', binary=False, decode_error='strict',\n",
       "                dtype=<class 'numpy.float64'>, encoding='utf-8',\n",
       "                input='content', lowercase=True, max_df=0.5, max_features=50000,\n",
       "                min_df=1, ngram_range=(1, 2), norm='l2', preprocessor=None,\n",
       "                smooth_idf=True, stop_words=None, strip_accents='unicode',\n",
       "                sublinear_tf=True, token_pattern='(?u)\\\\b\\\\w\\\\w+\\\\b',\n",
       "                tokenizer=None, use_idf=True, vocabulary=None)"
      ]
     },
     "execution_count": 20,
     "metadata": {},
     "output_type": "execute_result"
    }
   ],
   "source": [
    "word_vectorizer = TfidfVectorizer(\n",
    "    sublinear_tf=True,\n",
    "    strip_accents='unicode',\n",
    "    analyzer='word',\n",
    "#    preprocessor= preprocess_comment,\n",
    "    max_df = 0.5,           # consider only those tokens which occur in max 50% of the documents. \n",
    "    ngram_range=(1, 2),   #Consier both unigrams and bi-grams\n",
    "    max_features=50000)    #consider only top 50k features sorted by term frequency in reverse order\n",
    "word_vectorizer.fit(train_text)"
   ]
  },
  {
   "cell_type": "markdown",
   "metadata": {},
   "source": [
    "- __Transform the text column with the tf-idf vectorizer__"
   ]
  },
  {
   "cell_type": "code",
   "execution_count": 21,
   "metadata": {},
   "outputs": [
    {
     "name": "stdout",
     "output_type": "stream",
     "text": [
      "0.3297044038772583 mins\n"
     ]
    }
   ],
   "source": [
    "import time\n",
    "start = time.time()\n",
    "train_word_features = word_vectorizer.transform(train_text)\n",
    "test_word_features = word_vectorizer.transform(test_text)\n",
    "end = time.time()\n",
    "print((end-start)/60,'mins')"
   ]
  },
  {
   "cell_type": "code",
   "execution_count": 22,
   "metadata": {},
   "outputs": [
    {
     "name": "stdout",
     "output_type": "stream",
     "text": [
      "Train matrix shape: (159571, 50000)\n",
      "Test matrix shape: (153164, 50000)\n"
     ]
    }
   ],
   "source": [
    "print('Train matrix shape: {}'.format(train_word_features.shape))\n",
    "print('Test matrix shape: {}'.format(test_word_features.shape))"
   ]
  },
  {
   "cell_type": "code",
   "execution_count": 23,
   "metadata": {},
   "outputs": [],
   "source": [
    "feature_names = word_vectorizer.get_feature_names()"
   ]
  },
  {
   "cell_type": "markdown",
   "metadata": {},
   "source": [
    "## Which are the most frequent words?\n",
    "\n",
    "Let's take a look at the words which are most frequent across the full corpus. "
   ]
  },
  {
   "cell_type": "code",
   "execution_count": 74,
   "metadata": {},
   "outputs": [],
   "source": [
    "count_vectorizer = CountVectorizer(max_features=30, max_df = 200)  \n",
    "train_count_features = count_vectorizer.fit_transform(train_text)"
   ]
  },
  {
   "cell_type": "code",
   "execution_count": 25,
   "metadata": {},
   "outputs": [],
   "source": [
    "def get_topn_word_counts(vectorizer, feature_counts, n=10):\n",
    "    count_docs = feature_counts.A.sum(axis=0)\n",
    "    count_feature_names = vectorizer.get_feature_names()\n",
    "    top_words_counts = sorted(zip(count_feature_names, count_docs), key= lambda x:x[1], reverse=True)\n",
    "    df = pd.DataFrame(top_words_counts, columns = ['token', 'count'])[:n]\n",
    "    return df    "
   ]
  },
  {
   "cell_type": "code",
   "execution_count": 75,
   "metadata": {},
   "outputs": [
    {
     "data": {
      "text/html": [
       "<div>\n",
       "<style scoped>\n",
       "    .dataframe tbody tr th:only-of-type {\n",
       "        vertical-align: middle;\n",
       "    }\n",
       "\n",
       "    .dataframe tbody tr th {\n",
       "        vertical-align: top;\n",
       "    }\n",
       "\n",
       "    .dataframe thead th {\n",
       "        text-align: right;\n",
       "    }\n",
       "</style>\n",
       "<table border=\"1\" class=\"dataframe\">\n",
       "  <thead>\n",
       "    <tr style=\"text-align: right;\">\n",
       "      <th></th>\n",
       "      <th>token</th>\n",
       "      <th>count</th>\n",
       "    </tr>\n",
       "  </thead>\n",
       "  <tbody>\n",
       "    <tr>\n",
       "      <th>0</th>\n",
       "      <td>pig</td>\n",
       "      <td>1490</td>\n",
       "    </tr>\n",
       "    <tr>\n",
       "      <th>1</th>\n",
       "      <td>fish</td>\n",
       "      <td>1248</td>\n",
       "    </tr>\n",
       "    <tr>\n",
       "      <th>2</th>\n",
       "      <td>wanker</td>\n",
       "      <td>1070</td>\n",
       "    </tr>\n",
       "    <tr>\n",
       "      <th>3</th>\n",
       "      <td>bark</td>\n",
       "      <td>1022</td>\n",
       "    </tr>\n",
       "    <tr>\n",
       "      <th>4</th>\n",
       "      <td>nipple</td>\n",
       "      <td>845</td>\n",
       "    </tr>\n",
       "    <tr>\n",
       "      <th>5</th>\n",
       "      <td>dickhead</td>\n",
       "      <td>790</td>\n",
       "    </tr>\n",
       "    <tr>\n",
       "      <th>6</th>\n",
       "      <td>taco</td>\n",
       "      <td>781</td>\n",
       "    </tr>\n",
       "    <tr>\n",
       "      <th>7</th>\n",
       "      <td>smell</td>\n",
       "      <td>742</td>\n",
       "    </tr>\n",
       "    <tr>\n",
       "      <th>8</th>\n",
       "      <td>fffa</td>\n",
       "      <td>713</td>\n",
       "    </tr>\n",
       "    <tr>\n",
       "      <th>9</th>\n",
       "      <td>homo</td>\n",
       "      <td>675</td>\n",
       "    </tr>\n",
       "    <tr>\n",
       "      <th>10</th>\n",
       "      <td>no</td>\n",
       "      <td>660</td>\n",
       "    </tr>\n",
       "    <tr>\n",
       "      <th>11</th>\n",
       "      <td>twat</td>\n",
       "      <td>657</td>\n",
       "    </tr>\n",
       "    <tr>\n",
       "      <th>12</th>\n",
       "      <td>teabag</td>\n",
       "      <td>625</td>\n",
       "    </tr>\n",
       "    <tr>\n",
       "      <th>13</th>\n",
       "      <td>fucksex</td>\n",
       "      <td>624</td>\n",
       "    </tr>\n",
       "    <tr>\n",
       "      <th>14</th>\n",
       "      <td>freezer</td>\n",
       "      <td>621</td>\n",
       "    </tr>\n",
       "  </tbody>\n",
       "</table>\n",
       "</div>"
      ],
      "text/plain": [
       "       token  count\n",
       "0        pig   1490\n",
       "1       fish   1248\n",
       "2     wanker   1070\n",
       "3       bark   1022\n",
       "4     nipple    845\n",
       "5   dickhead    790\n",
       "6       taco    781\n",
       "7      smell    742\n",
       "8       fffa    713\n",
       "9       homo    675\n",
       "10        no    660\n",
       "11      twat    657\n",
       "12    teabag    625\n",
       "13   fucksex    624\n",
       "14   freezer    621"
      ]
     },
     "execution_count": 75,
     "metadata": {},
     "output_type": "execute_result"
    }
   ],
   "source": [
    "top_15_wordcounts = get_topn_word_counts(count_vectorizer, train_count_features, n=15)\n",
    "top_15_wordcounts"
   ]
  },
  {
   "cell_type": "code",
   "execution_count": 77,
   "metadata": {},
   "outputs": [
    {
     "data": {
      "image/png": "[encoded data removed]",
      "text/plain": [
       "<Figure size 1152x432 with 1 Axes>"
      ]
     },
     "metadata": {
      "needs_background": "light"
     },
     "output_type": "display_data"
    }
   ],
   "source": [
    "fig = plt.figure(figsize=(16,6))\n",
    "_ = sns.barplot(x=\"token\", y=\"count\", data=top_15_wordcounts)\n",
    "_=plt.title('Top 15 words in the corpus by count')"
   ]
  },
  {
   "cell_type": "markdown",
   "metadata": {},
   "source": [
    "### Visualizing tf-idf features"
   ]
  },
  {
   "cell_type": "code",
   "execution_count": 28,
   "metadata": {},
   "outputs": [],
   "source": [
    "def top_tfidf_feats(row, features, top_n=10):\n",
    "    ''' Get top n tfidf values in row and return them with their corresponding feature names.'''\n",
    "    topn_ids = np.argsort(row)[::-1][:top_n]\n",
    "    top_feats = [(features[i], row[i]) for i in topn_ids]\n",
    "    df = pd.DataFrame(top_feats)\n",
    "    df.columns = ['token', 'tfidf_score']\n",
    "    return df\n",
    "def top_feats_in_doc(X, features, row_id, top_n=10):\n",
    "    ''' Top tfidf features in a specific document '''\n",
    "    row = np.squeeze(X[row_id].toarray())\n",
    "    return top_tfidf_feats(row, features, top_n)"
   ]
  },
  {
   "cell_type": "code",
   "execution_count": 29,
   "metadata": {},
   "outputs": [
    {
     "name": "stdout",
     "output_type": "stream",
     "text": [
      "\"\n",
      "Fair use rationale for Image:Wonju.jpg\n",
      "\n",
      "Thanks for uploading Image:Wonju.jpg. I notice the image page specifies that the image is being used under fair use but there is no explanation or rationale as to why its use in Wikipedia articles constitutes fair use. In addition to the boilerplate fair use template, you must also write out on the image description page a specific explanation or rationale for why using this image in each article is consistent with fair use.\n",
      "\n",
      "Please go to the image description page and edit it to include a fair use rationale.\n",
      "\n",
      "If you have uploaded other fair use media, consider checking that you have specified the fair use rationale on those pages too. You can find a list of 'image' pages you have edited by clicking on the \"\"my contributions\"\" link (it is located at the very top of any Wikipedia page when you are logged in), and then selecting \"\"Image\"\" from the dropdown box. Note that any fair use images uploaded after 4 May, 2006, and lacking such an explanation will be deleted one week after they have been uploaded, as described on criteria for speedy deletion. If you have any questions please ask them at the Media copyright questions page. Thank you. (talk • contribs • ) \n",
      "Unspecified source for Image:Wonju.jpg\n",
      "\n",
      "Thanks for uploading Image:Wonju.jpg. I noticed that the file's description page currently doesn't specify who created the content, so the copyright status is unclear. If you did not create this file yourself, then you will need to specify the owner of the copyright. If you obtained it from a website, then a link to the website from which it was taken, together with a restatement of that website's terms of use of its content, is usually sufficient information. However, if the copyright holder is different from the website's publisher, then their copyright should also be acknowledged.\n",
      "\n",
      "As well as adding the source, please add a proper copyright licensing tag if the file doesn't have one already. If you created/took the picture, audio, or video then the  tag can be used to release it under the GFDL. If you believe the media meets the criteria at Wikipedia:Fair use, use a tag such as  or one of the other tags listed at Wikipedia:Image copyright tags#Fair use. See Wikipedia:Image copyright tags for the full list of copyright tags that you can use.\n",
      "\n",
      "If you have uploaded other files, consider checking that you have specified their source and tagged them, too. You can find a list of files you have uploaded by following [ this link]. Unsourced and untagged images may be deleted one week after they have been tagged, as described on criteria for speedy deletion. If the image is copyrighted under a non-free license (per Wikipedia:Fair use) then the image will be deleted 48 hours after . If you have any questions please ask them at the Media copyright questions page. Thank you. (talk • contribs • ) \"\n"
     ]
    },
    {
     "data": {
      "text/html": [
       "<div>\n",
       "<style scoped>\n",
       "    .dataframe tbody tr th:only-of-type {\n",
       "        vertical-align: middle;\n",
       "    }\n",
       "\n",
       "    .dataframe tbody tr th {\n",
       "        vertical-align: top;\n",
       "    }\n",
       "\n",
       "    .dataframe thead th {\n",
       "        text-align: right;\n",
       "    }\n",
       "</style>\n",
       "<table border=\"1\" class=\"dataframe\">\n",
       "  <thead>\n",
       "    <tr style=\"text-align: right;\">\n",
       "      <th></th>\n",
       "      <th>token</th>\n",
       "      <th>tfidf_score</th>\n",
       "    </tr>\n",
       "  </thead>\n",
       "  <tbody>\n",
       "    <tr>\n",
       "      <th>0</th>\n",
       "      <td>fair use</td>\n",
       "      <td>0.140022</td>\n",
       "    </tr>\n",
       "    <tr>\n",
       "      <th>1</th>\n",
       "      <td>fair</td>\n",
       "      <td>0.122147</td>\n",
       "    </tr>\n",
       "    <tr>\n",
       "      <th>2</th>\n",
       "      <td>copyright</td>\n",
       "      <td>0.118019</td>\n",
       "    </tr>\n",
       "    <tr>\n",
       "      <th>3</th>\n",
       "      <td>image</td>\n",
       "      <td>0.115008</td>\n",
       "    </tr>\n",
       "    <tr>\n",
       "      <th>4</th>\n",
       "      <td>rationale</td>\n",
       "      <td>0.113050</td>\n",
       "    </tr>\n",
       "    <tr>\n",
       "      <th>5</th>\n",
       "      <td>specify</td>\n",
       "      <td>0.102185</td>\n",
       "    </tr>\n",
       "    <tr>\n",
       "      <th>6</th>\n",
       "      <td>uploaded</td>\n",
       "      <td>0.101089</td>\n",
       "    </tr>\n",
       "    <tr>\n",
       "      <th>7</th>\n",
       "      <td>use rationale</td>\n",
       "      <td>0.100192</td>\n",
       "    </tr>\n",
       "    <tr>\n",
       "      <th>8</th>\n",
       "      <td>tag</td>\n",
       "      <td>0.099163</td>\n",
       "    </tr>\n",
       "    <tr>\n",
       "      <th>9</th>\n",
       "      <td>copyright tag</td>\n",
       "      <td>0.098036</td>\n",
       "    </tr>\n",
       "  </tbody>\n",
       "</table>\n",
       "</div>"
      ],
      "text/plain": [
       "           token  tfidf_score\n",
       "0       fair use     0.140022\n",
       "1           fair     0.122147\n",
       "2      copyright     0.118019\n",
       "3          image     0.115008\n",
       "4      rationale     0.113050\n",
       "5        specify     0.102185\n",
       "6       uploaded     0.101089\n",
       "7  use rationale     0.100192\n",
       "8            tag     0.099163\n",
       "9  copyright tag     0.098036"
      ]
     },
     "execution_count": 29,
     "metadata": {},
     "output_type": "execute_result"
    }
   ],
   "source": [
    "#rand_index = np.random.choice(range(len(train)), size=1)[0]\n",
    "print(train.loc[10, 'comment_text'])\n",
    "top_10_tfidf = top_feats_in_doc(train_word_features, feature_names, 10, top_n=10)\n",
    "top_10_tfidf"
   ]
  },
  {
   "cell_type": "code",
   "execution_count": 30,
   "metadata": {},
   "outputs": [
    {
     "data": {
      "image/png": "[encoded data removed]",
      "text/plain": [
       "<Figure size 720x360 with 1 Axes>"
      ]
     },
     "metadata": {
      "needs_background": "light"
     },
     "output_type": "display_data"
    }
   ],
   "source": [
    "fig = plt.figure(figsize=(10,5))\n",
    "_ = sns.barplot(x=\"token\", y=\"tfidf_score\", data=top_10_tfidf)\n",
    "_=plt.title('Comment #100')"
   ]
  },
  {
   "cell_type": "markdown",
   "metadata": {},
   "source": [
    "## Text Classification\n",
    "\n",
    "- We will try out 4 different classification algorithms, starting with naive Bayes which is the most popular choice for text classification problems, followed by logistic regression, XGBoost and Random Forest."
   ]
  },
  {
   "cell_type": "code",
   "execution_count": 31,
   "metadata": {},
   "outputs": [],
   "source": [
    "## Little helper function to perform one-vs-all cross validation\n",
    "def cross_val(clf,Xtrain=train_word_features, cv=3,verbose=0):\n",
    "    '''\n",
    "    This function uses scikit-learn's cross validation module to perform one-vs-all classifcation.\n",
    "    Input: classifier, training data, number of cv folds, verbosity\n",
    "    Output: prints out the CV score for each class and the mean CV score across all the classes.\n",
    "    '''\n",
    "    scores = []\n",
    "    class_names = ['toxic', 'severe_toxic', 'obscene', 'threat', 'insult', 'identity_hate']\n",
    "    for class_name in class_names:\n",
    "        train_target = train[class_name]\n",
    "        cv_score = np.mean(cross_val_score(clf, Xtrain, train_target, cv=cv, scoring='roc_auc'))\n",
    "        scores.append(cv_score)\n",
    "        if verbose==1:\n",
    "            print('CV score for class {} is {}'.format(class_name, cv_score))\n",
    "    print('Mean CV score is {}'.format(np.mean(scores)))"
   ]
  },
  {
   "cell_type": "markdown",
   "metadata": {},
   "source": [
    "#### Grid Search\n",
    "\n",
    "- I have set up a grid of the `C` values (hyperparameter) in Logistic regression. For each value of `C`, one-vs-all classification is performed. The `C` value with the highest CV score is selected.\n",
    "- The same strategy is used for the alpha parameter (this technique of _regularizing_ is called Lidstone smoothing) in Multinomial Naive Bayes. "
   ]
  },
  {
   "cell_type": "code",
   "execution_count": 32,
   "metadata": {},
   "outputs": [
    {
     "name": "stdout",
     "output_type": "stream",
     "text": [
      "--------Naive Bayes----------\n",
      "\n",
      "alpha = 0.01\n",
      "Mean CV score is 0.9495400784043829\n",
      "------------\n",
      "alpha = 0.03\n",
      "Mean CV score is 0.9564108735385882\n",
      "------------\n",
      "alpha = 0.049999999999999996\n",
      "Mean CV score is 0.9580334524997025\n",
      "------------\n",
      "alpha = 0.06999999999999999\n",
      "Mean CV score is 0.9582576510743265\n",
      "------------\n",
      "alpha = 0.08999999999999998\n",
      "Mean CV score is 0.957868887062988\n",
      "------------\n",
      "alpha = 0.10999999999999997\n",
      "Mean CV score is 0.9571623294976069\n",
      "------------\n"
     ]
    }
   ],
   "source": [
    "#Multinomial NB\n",
    "alphas = np.arange(0.01,0.12, 0.02)\n",
    "print('--------Naive Bayes----------\\n')\n",
    "for alpha in alphas:\n",
    "    clf_NB = MultinomialNB(alpha=alpha)\n",
    "    print('alpha = {}'.format(alpha))\n",
    "    cross_val(clf_NB,cv=5, verbose=0)\n",
    "    print('------------')     "
   ]
  },
  {
   "cell_type": "code",
   "execution_count": 33,
   "metadata": {},
   "outputs": [
    {
     "name": "stdout",
     "output_type": "stream",
     "text": [
      "C = 1.0\n",
      "Mean CV score is 0.9795760946491199\n",
      "------------\n",
      "C = 1.1\n",
      "Mean CV score is 0.9796473746758321\n",
      "------------\n",
      "C = 1.2000000000000002\n",
      "Mean CV score is 0.9796956905094133\n",
      "------------\n",
      "C = 1.3000000000000003\n",
      "Mean CV score is 0.9797276142150554\n",
      "------------\n",
      "C = 1.4000000000000004\n",
      "Mean CV score is 0.9797416886633842\n",
      "------------\n",
      "C = 1.5000000000000004\n",
      "Mean CV score is 0.9797480329433639\n",
      "------------\n",
      "C = 1.6000000000000005\n",
      "Mean CV score is 0.9797428017514074\n",
      "------------\n",
      "C = 1.7000000000000006\n",
      "Mean CV score is 0.9797291086319387\n",
      "------------\n",
      "C = 1.8000000000000007\n",
      "Mean CV score is 0.9797073974175965\n",
      "------------\n",
      "C = 1.9000000000000008\n",
      "Mean CV score is 0.9796799781004165\n",
      "------------\n",
      "C = 2.000000000000001\n",
      "Mean CV score is 0.9796489111241381\n",
      "------------\n"
     ]
    }
   ],
   "source": [
    "# Logistic regression\n",
    "\n",
    "C = np.arange(1,2.1,0.1)\n",
    "for c in C:\n",
    "    clf_logreg = LogisticRegression(C=c, solver= 'sag')\n",
    "    print('C = {}'.format(c))\n",
    "    cross_val(clf_logreg,cv=5)\n",
    "    print('------------')        "
   ]
  },
  {
   "cell_type": "markdown",
   "metadata": {},
   "source": [
    "#### XGBoost"
   ]
  },
  {
   "cell_type": "code",
   "execution_count": 29,
   "metadata": {},
   "outputs": [],
   "source": [
    "import xgboost as xgb"
   ]
  },
  {
   "cell_type": "code",
   "execution_count": 30,
   "metadata": {},
   "outputs": [
    {
     "name": "stdout",
     "output_type": "stream",
     "text": [
      "CV score for class toxic is 0.9523210169553802\n",
      "CV score for class severe_toxic is 0.9776601744140581\n",
      "CV score for class obscene is 0.9812156860755475\n",
      "CV score for class threat is 0.9636599489620544\n",
      "CV score for class insult is 0.9680945350130753\n",
      "CV score for class identity_hate is 0.964488887725074\n",
      "Mean CV score is 0.9679067081908649\n"
     ]
    }
   ],
   "source": [
    "xgb_model = xgb.XGBClassifier(max_depth=5, n_estimators=300, n_jobs=-1,random_state=42)\n",
    "cross_val(xgb_model,verbose=1)"
   ]
  },
  {
   "cell_type": "markdown",
   "metadata": {},
   "source": [
    "- **XGBoost surprisingly does not perform well in this task! I agree that I haven't followed a rigorous method of grid search to find the optimum set of hyperparameters because of my computing limitations, but those who have tried that approach weren't successful either.**"
   ]
  },
  {
   "cell_type": "markdown",
   "metadata": {},
   "source": [
    "#### Random Forest"
   ]
  },
  {
   "cell_type": "code",
   "execution_count": 78,
   "metadata": {},
   "outputs": [],
   "source": [
    "from sklearn.ensemble import RandomForestClassifier"
   ]
  },
  {
   "cell_type": "code",
   "execution_count": 132,
   "metadata": {},
   "outputs": [],
   "source": [
    "clf_rf = RandomForestClassifier(n_estimators=100, max_depth=5, max_features= 'sqrt', random_state=42,n_jobs=-1)"
   ]
  },
  {
   "cell_type": "code",
   "execution_count": 133,
   "metadata": {},
   "outputs": [
    {
     "name": "stdout",
     "output_type": "stream",
     "text": [
      "CV score for class toxic is 0.7942830881904763\n",
      "CV score for class severe_toxic is 0.7556040102066959\n",
      "CV score for class obscene is 0.7973142552618651\n",
      "CV score for class threat is 0.7053780661429906\n",
      "CV score for class insult is 0.8071722805932481\n",
      "CV score for class identity_hate is 0.6453222073322394\n",
      "Mean CV score is 0.7508456512879192\n"
     ]
    }
   ],
   "source": [
    "cross_val(clf_rf,verbose=1)"
   ]
  },
  {
   "cell_type": "markdown",
   "metadata": {},
   "source": [
    "- Haven't explored the RF classifier in detail"
   ]
  },
  {
   "cell_type": "markdown",
   "metadata": {},
   "source": [
    "**Final predictions**"
   ]
  },
  {
   "cell_type": "code",
   "execution_count": 40,
   "metadata": {},
   "outputs": [
    {
     "name": "stdout",
     "output_type": "stream",
     "text": [
      "--------Logistic Regression----------\n",
      "\n",
      "CV score for class toxic is 0.9717273137455715\n",
      "CV score for class severe_toxic is 0.9847066096396434\n",
      "CV score for class obscene is 0.9862518405262598\n",
      "CV score for class threat is 0.9820151562239541\n",
      "CV score for class insult is 0.9775106099040928\n",
      "CV score for class identity_hate is 0.9762773990436205\n",
      "Mean CV score is 0.9797481548471905\n"
     ]
    }
   ],
   "source": [
    "clf_logreg = LogisticRegression(C=1.5, solver= 'sag')\n",
    "print('--------Logistic Regression----------\\n')\n",
    "cross_val(clf_logreg,cv=5,verbose=1)"
   ]
  },
  {
   "cell_type": "code",
   "execution_count": 41,
   "metadata": {},
   "outputs": [],
   "source": [
    "submission = pd.DataFrame.from_dict({'id': test['id']})\n",
    "classifier = clf_logreg\n",
    "for class_name in class_names:\n",
    "    classifier.fit(train_word_features, train[class_name])\n",
    "    submission[class_name] = classifier.predict_proba(test_word_features)[:, 1]\n",
    "submission.to_csv('submission.csv', index=False)"
   ]
  },
  {
   "cell_type": "markdown",
   "metadata": {},
   "source": [
    "### Visualising the logistic regression coefficients"
   ]
  },
  {
   "cell_type": "markdown",
   "metadata": {},
   "source": [
    "*Logistic regression is one of the simpler ML algorithms that is easy to interpret. We take advanage of this fact and explore the output of the logreg model.*\n",
    "\n",
    "- In logistic regression, we take a linear combination of all the features and this becomes the argument of the sigmoid function. The output of the sigmoid function gives the estimated probability of the +ve class conditioned on the feature vector. \n",
    "- Usually, if this probability is > 0.5 the observation is classifed as 1 or positive class, else 0 (or negative class). The coefficients of the features which are learned by the model gives an idea about which features are important in predicting the class correctly. The strongest features will have +ve coefficients whereas the weak features will have -ve coefficients."
   ]
  },
  {
   "cell_type": "code",
   "execution_count": 42,
   "metadata": {},
   "outputs": [],
   "source": [
    "def plot_and_return_top_features(classifier, vectorizer, class_name, top_features=20):\n",
    "    \"\"\"\n",
    "    Plot the top features in a binary classification model.\n",
    "\n",
    "    Adapted from https://medium.com/@aneesha/visualising-top-features-in-linear-svm-with-scikit-learn-and-matplotlib-3454ab18a14d\n",
    "    and https://stackoverflow.com/a/26980472 by @kjam\n",
    "    \"\"\"\n",
    "    class_labels = classifier.classes_\n",
    "    feature_names = vectorizer.get_feature_names()\n",
    "    topn_class1 = sorted(zip(classifier.coef_[0], feature_names))[:top_features]\n",
    "    topn_class2 = sorted(zip(classifier.coef_[0], feature_names))[-top_features:]\n",
    "    top_coefficients = np.hstack([topn_class1, topn_class2])\n",
    "    if set(topn_class1).union(topn_class2):\n",
    "        top_coefficients = topn_class1\n",
    "        for ce in topn_class2:\n",
    "            if ce not in topn_class1:\n",
    "                top_coefficients.append(ce)\n",
    "\n",
    "    plt.figure(figsize=(15, 5))\n",
    "    colors = ['red' if c < 0 else 'blue' for c in [tc[0] for tc in top_coefficients]]\n",
    "    plt.bar(np.arange(len(top_coefficients)), [tc[0] for tc in top_coefficients], color=colors)\n",
    "    plt.xticks(np.arange(len(top_coefficients)),\n",
    "               [tc[1] for tc in top_coefficients], rotation=60, ha='right')\n",
    "    plt.title('{} comments'.format(class_name))\n",
    "    plt.ylabel('Feature coefficient values')\n",
    "    plt.show()\n",
    "    return top_coefficients\n"
   ]
  },
  {
   "cell_type": "code",
   "execution_count": 122,
   "metadata": {},
   "outputs": [
    {
     "data": {
      "image/png": "[encoded data removed]",
      "text/plain": [
       "<Figure size 1080x360 with 1 Axes>"
      ]
     },
     "metadata": {
      "needs_background": "light"
     },
     "output_type": "display_data"
    },
    {
     "data": {
      "image/png": "[encoded data removed]",
      "text/plain": [
       "<Figure size 1080x360 with 1 Axes>"
      ]
     },
     "metadata": {
      "needs_background": "light"
     },
     "output_type": "display_data"
    },
    {
     "data": {
      "image/png": "[encoded data removed]",
      "text/plain": [
       "<Figure size 1080x360 with 1 Axes>"
      ]
     },
     "metadata": {
      "needs_background": "light"
     },
     "output_type": "display_data"
    },
    {
     "data": {
      "image/png": "[encoded data removed]",
      "text/plain": [
       "<Figure size 1080x360 with 1 Axes>"
      ]
     },
     "metadata": {
      "needs_background": "light"
     },
     "output_type": "display_data"
    },
    {
     "data": {
      "image/png": "[encoded data removed]",
      "text/plain": [
       "<Figure size 1080x360 with 1 Axes>"
      ]
     },
     "metadata": {
      "needs_background": "light"
     },
     "output_type": "display_data"
    },
    {
     "data": {
      "image/png": "[encoded data removed]",
      "text/plain": [
       "<Figure size 1080x360 with 1 Axes>"
      ]
     },
     "metadata": {
      "needs_background": "light"
     },
     "output_type": "display_data"
    }
   ],
   "source": [
    "\n",
    "for class_name in class_names:\n",
    "    logreg = LogisticRegression(C=1.5, solver= 'sag')\n",
    "    logreg.fit(train_word_features, train[class_name])\n",
    "    _=plot_and_return_top_features(logreg, word_vectorizer, class_name, 20)"
   ]
  },
  {
   "cell_type": "markdown",
   "metadata": {},
   "source": [
    "# Topic modelling\n",
    "\n",
    "We will use Latent Dirichlet Allocation, or LDA, for topic modelling. For more information on LDA, you can check out this [article](https://medium.com/@lettier/how-does-lda-work-ill-explain-using-emoji-108abf40fa7d) or this excellent [review article](http://www.cs.columbia.edu/~blei/papers/Blei2012.pdf) by David Blei, one of the founders of LDA in the ML context.\n",
    "\n",
    "**What is topic modelling?**\n",
    "\n",
    "One can think of topic modelling as an unsupervised clustering technique. Given a corpus of documents, in this case, a corpus of Wikipedia comments, the algorithm (here, LDA) tries to find the latent factors or topics based on the words. LDA will not see the labels. It will be interesting to see if LDA can actually segregate the comments into clean and toxic comments, and furthermore find the substructures in the levels of toxicity.\n",
    "\n",
    "Please note that there is no guarantee that LDA topics will be human interpretable. \n",
    "\n",
    "- We will first prepare the dictionary and the corpus for gensim's LDA module. It's fairly straightforward, you first create a dictionary of all the tokens (basically means that you map each token to a unique number) and then create a bag of words model with word counts. This will constitute the corpus."
   ]
  },
  {
   "cell_type": "code",
   "execution_count": 36,
   "metadata": {},
   "outputs": [
    {
     "name": "stderr",
     "output_type": "stream",
     "text": [
      "/Users/debashis/anaconda3/lib/python3.6/site-packages/smart_open/smart_open_lib.py:398: UserWarning: This function is deprecated, use smart_open.open instead. See the migration notes for details: https://github.com/RaRe-Technologies/smart_open/blob/master/README.rst#migrating-to-the-new-open-function\n",
      "  'See the migration notes for details: %s' % _MIGRATION_NOTES_URL\n"
     ]
    }
   ],
   "source": [
    "tokenized_clean_train_text = [word_tokenize(doc) for doc in train_text]\n",
    "gensim_dict = Dictionary(tokenized_clean_train_text)\n",
    "gensim_dict.save('dictionary.dict')"
   ]
  },
  {
   "cell_type": "code",
   "execution_count": 37,
   "metadata": {},
   "outputs": [
    {
     "name": "stdout",
     "output_type": "stream",
     "text": [
      "mean mean forever ever block wikipedia huh well thats disappoint\n",
      "The id for the word 'mean' is: 354\n"
     ]
    }
   ],
   "source": [
    "print(train_text[4657])  #random comment\n",
    "print('The id for the word \\'mean\\' is: {}'.format(gensim_dict.token2id['mean']))   # finding the id for a word from the gensim dictionary"
   ]
  },
  {
   "cell_type": "code",
   "execution_count": 38,
   "metadata": {},
   "outputs": [],
   "source": [
    "#Now convert each document into the bag-of-words (BoW) format = list of (token_id, token_count).\n",
    "corpus = [gensim_dict.doc2bow(doc) for doc in tokenized_clean_train_text]\n",
    "gensim.corpora.MmCorpus.serialize('corpus.mm', corpus)"
   ]
  },
  {
   "cell_type": "markdown",
   "metadata": {},
   "source": [
    "- **In LDA, one has to provide the number of topics as an input. There is no science behind finding this number, although one might be guided by the problem statement in hand. In this particular case, it is known that the data has 6 different labels. I expect LDA to find at most 5 different topics since there is a huge overlap between toxic and severe_toxic labels.**"
   ]
  },
  {
   "cell_type": "code",
   "execution_count": 39,
   "metadata": {},
   "outputs": [
    {
     "name": "stdout",
     "output_type": "stream",
     "text": [
      "1.4258439779281615 mins\n"
     ]
    }
   ],
   "source": [
    "num_topics=5\n",
    "start = time.time()\n",
    "lda = LdaModel(corpus, id2word=gensim_dict, num_topics=num_topics,chunksize=2000, random_state=42)\n",
    "#lda.save('lda_5_topics.ldamodel')\n",
    "print((time.time() - start)/60, 'mins')"
   ]
  },
  {
   "cell_type": "markdown",
   "metadata": {},
   "source": [
    "### Visualizing the topics"
   ]
  },
  {
   "cell_type": "code",
   "execution_count": 44,
   "metadata": {},
   "outputs": [
    {
     "data": {
      "text/html": [
       "<div>\n",
       "<style scoped>\n",
       "    .dataframe tbody tr th:only-of-type {\n",
       "        vertical-align: middle;\n",
       "    }\n",
       "\n",
       "    .dataframe tbody tr th {\n",
       "        vertical-align: top;\n",
       "    }\n",
       "\n",
       "    .dataframe thead th {\n",
       "        text-align: right;\n",
       "    }\n",
       "</style>\n",
       "<table border=\"1\" class=\"dataframe\">\n",
       "  <thead>\n",
       "    <tr style=\"text-align: right;\">\n",
       "      <th></th>\n",
       "      <th>Topic 1</th>\n",
       "      <th>Topic 2</th>\n",
       "      <th>Topic 3</th>\n",
       "      <th>Topic 4</th>\n",
       "      <th>Topic 5</th>\n",
       "    </tr>\n",
       "  </thead>\n",
       "  <tbody>\n",
       "    <tr>\n",
       "      <th>0</th>\n",
       "      <td>name</td>\n",
       "      <td>say</td>\n",
       "      <td>page</td>\n",
       "      <td>article</td>\n",
       "      <td>fuck</td>\n",
       "    </tr>\n",
       "    <tr>\n",
       "      <th>1</th>\n",
       "      <td>http</td>\n",
       "      <td>one</td>\n",
       "      <td>article</td>\n",
       "      <td>wikipedia</td>\n",
       "      <td>lol</td>\n",
       "    </tr>\n",
       "    <tr>\n",
       "      <th>2</th>\n",
       "      <td>one</td>\n",
       "      <td>would</td>\n",
       "      <td>talk</td>\n",
       "      <td>page</td>\n",
       "      <td>get</td>\n",
       "    </tr>\n",
       "    <tr>\n",
       "      <th>3</th>\n",
       "      <td>people</td>\n",
       "      <td>know</td>\n",
       "      <td>edit</td>\n",
       "      <td>use</td>\n",
       "      <td>fat</td>\n",
       "    </tr>\n",
       "    <tr>\n",
       "      <th>4</th>\n",
       "      <td>aid</td>\n",
       "      <td>hate</td>\n",
       "      <td>wikipedia</td>\n",
       "      <td>image</td>\n",
       "      <td>faggot</td>\n",
       "    </tr>\n",
       "    <tr>\n",
       "      <th>5</th>\n",
       "      <td>state</td>\n",
       "      <td>also</td>\n",
       "      <td>make</td>\n",
       "      <td>please</td>\n",
       "      <td>suck</td>\n",
       "    </tr>\n",
       "    <tr>\n",
       "      <th>6</th>\n",
       "      <td>say</td>\n",
       "      <td>think</td>\n",
       "      <td>user</td>\n",
       "      <td>add</td>\n",
       "      <td>huge</td>\n",
       "    </tr>\n",
       "    <tr>\n",
       "      <th>7</th>\n",
       "      <td>also</td>\n",
       "      <td>year</td>\n",
       "      <td>like</td>\n",
       "      <td>source</td>\n",
       "      <td>stupid</td>\n",
       "    </tr>\n",
       "    <tr>\n",
       "      <th>8</th>\n",
       "      <td>source</td>\n",
       "      <td>school</td>\n",
       "      <td>get</td>\n",
       "      <td>deletion</td>\n",
       "      <td>love</td>\n",
       "    </tr>\n",
       "    <tr>\n",
       "      <th>9</th>\n",
       "      <td>jew</td>\n",
       "      <td>fact</td>\n",
       "      <td>block</td>\n",
       "      <td>link</td>\n",
       "      <td>hey</td>\n",
       "    </tr>\n",
       "  </tbody>\n",
       "</table>\n",
       "</div>"
      ],
      "text/plain": [
       "  Topic 1 Topic 2    Topic 3    Topic 4 Topic 5\n",
       "0    name     say       page    article    fuck\n",
       "1    http     one    article  wikipedia     lol\n",
       "2     one   would       talk       page     get\n",
       "3  people    know       edit        use     fat\n",
       "4     aid    hate  wikipedia      image  faggot\n",
       "5   state    also       make     please    suck\n",
       "6     say   think       user        add    huge\n",
       "7    also    year       like     source  stupid\n",
       "8  source  school        get   deletion    love\n",
       "9     jew    fact      block       link     hey"
      ]
     },
     "execution_count": 44,
     "metadata": {},
     "output_type": "execute_result"
    }
   ],
   "source": [
    "def show_topics(model,num_topics=5):\n",
    "    topics = {}\n",
    "    for i in range(num_topics):\n",
    "        topics[i] = [tup[0] for tup in model.show_topic(i)]\n",
    "    topics_lda_df = pd.DataFrame(data=topics)\n",
    "    topics_lda_df.columns = ['Topic 1', 'Topic 2', 'Topic 3', 'Topic 4', 'Topic 5']\n",
    "    return topics_lda_df\n",
    "\n",
    "show_topics(lda,num_topics=5)"
   ]
  },
  {
   "cell_type": "markdown",
   "metadata": {},
   "source": [
    "- Okay, what you see is that there are clearly two groups. Topics 1 through 4 basically are composed of clean/non-toxic words, whereas topic 5 is clearly different from the rest. It contains all those words which you classify as obscene,toxic, vulgar, and insulting.\n",
    "- In the bar plots below, we'll represent the topic words along with their probabilities/relevance within that topic."
   ]
  },
  {
   "cell_type": "code",
   "execution_count": 45,
   "metadata": {},
   "outputs": [
    {
     "data": {
      "image/png": "[encoded data removed]",
      "text/plain": [
       "<Figure size 1080x1296 with 5 Axes>"
      ]
     },
     "metadata": {
      "needs_background": "light"
     },
     "output_type": "display_data"
    }
   ],
   "source": [
    "fig=plt.figure(figsize=(15,18))\n",
    "for i in range(num_topics):\n",
    "    df=pd.DataFrame(lda.show_topic(i), columns=['term','prob']).set_index('term')    \n",
    "    plt.subplot(3,2,i+1)\n",
    "    plt.title('topic '+str(i+1))\n",
    "    sns.barplot(x='prob', y=df.index, data=df, palette='gnuplot')\n",
    "    plt.xlabel('probability')\n",
    "    plt.ylabel('Topic term')"
   ]
  },
  {
   "cell_type": "markdown",
   "metadata": {},
   "source": [
    "### LDA with tf-idf features\n",
    "\n",
    "We can also try to perform LDA with tf-idf vectors of each document instead of just count vectors. Hopefully it will segregate the topics better? Let's find out!"
   ]
  },
  {
   "cell_type": "code",
   "execution_count": 90,
   "metadata": {},
   "outputs": [],
   "source": [
    "from gensim import models\n",
    "tfidf = models.TfidfModel(corpus)\n",
    "corpus_tfidf = tfidf[corpus]"
   ]
  },
  {
   "cell_type": "code",
   "execution_count": 91,
   "metadata": {},
   "outputs": [
    {
     "name": "stdout",
     "output_type": "stream",
     "text": [
      "1.4377686500549316 mins\n"
     ]
    }
   ],
   "source": [
    "num_topics=5\n",
    "start = time.time()\n",
    "lda_tfidf = LdaModel(corpus_tfidf, id2word=gensim_dict, num_topics=num_topics, chunksize=2000,random_state=42)\n",
    "print((time.time() - start)/60, 'mins')"
   ]
  },
  {
   "cell_type": "code",
   "execution_count": 92,
   "metadata": {},
   "outputs": [
    {
     "data": {
      "text/html": [
       "<div>\n",
       "<style scoped>\n",
       "    .dataframe tbody tr th:only-of-type {\n",
       "        vertical-align: middle;\n",
       "    }\n",
       "\n",
       "    .dataframe tbody tr th {\n",
       "        vertical-align: top;\n",
       "    }\n",
       "\n",
       "    .dataframe thead th {\n",
       "        text-align: right;\n",
       "    }\n",
       "</style>\n",
       "<table border=\"1\" class=\"dataframe\">\n",
       "  <thead>\n",
       "    <tr style=\"text-align: right;\">\n",
       "      <th></th>\n",
       "      <th>Topic 1</th>\n",
       "      <th>Topic 2</th>\n",
       "      <th>Topic 3</th>\n",
       "      <th>Topic 4</th>\n",
       "      <th>Topic 5</th>\n",
       "    </tr>\n",
       "  </thead>\n",
       "  <tbody>\n",
       "    <tr>\n",
       "      <th>0</th>\n",
       "      <td>jew</td>\n",
       "      <td>dude</td>\n",
       "      <td>article</td>\n",
       "      <td>image</td>\n",
       "      <td>fuck</td>\n",
       "    </tr>\n",
       "    <tr>\n",
       "      <th>1</th>\n",
       "      <td>http</td>\n",
       "      <td>redirect</td>\n",
       "      <td>page</td>\n",
       "      <td>deletion</td>\n",
       "      <td>test</td>\n",
       "    </tr>\n",
       "    <tr>\n",
       "      <th>2</th>\n",
       "      <td>redirect</td>\n",
       "      <td>annoy</td>\n",
       "      <td>talk</td>\n",
       "      <td>speedy</td>\n",
       "      <td>sandbox</td>\n",
       "    </tr>\n",
       "    <tr>\n",
       "      <th>3</th>\n",
       "      <td>www</td>\n",
       "      <td>korean</td>\n",
       "      <td>edit</td>\n",
       "      <td>tag</td>\n",
       "      <td>experiment</td>\n",
       "    </tr>\n",
       "    <tr>\n",
       "      <th>4</th>\n",
       "      <td>greek</td>\n",
       "      <td>twat</td>\n",
       "      <td>wikipedia</td>\n",
       "      <td>copyright</td>\n",
       "      <td>suck</td>\n",
       "    </tr>\n",
       "    <tr>\n",
       "      <th>5</th>\n",
       "      <td>country</td>\n",
       "      <td>retard</td>\n",
       "      <td>please</td>\n",
       "      <td>delete</td>\n",
       "      <td>shit</td>\n",
       "    </tr>\n",
       "    <tr>\n",
       "      <th>6</th>\n",
       "      <td>com</td>\n",
       "      <td>till</td>\n",
       "      <td>block</td>\n",
       "      <td>criterion</td>\n",
       "      <td>gay</td>\n",
       "    </tr>\n",
       "    <tr>\n",
       "      <th>7</th>\n",
       "      <td>british</td>\n",
       "      <td>damn</td>\n",
       "      <td>thanks</td>\n",
       "      <td>file</td>\n",
       "      <td>bitch</td>\n",
       "    </tr>\n",
       "    <tr>\n",
       "      <th>8</th>\n",
       "      <td>kill</td>\n",
       "      <td>accident</td>\n",
       "      <td>make</td>\n",
       "      <td>jpg</td>\n",
       "      <td>as</td>\n",
       "    </tr>\n",
       "    <tr>\n",
       "      <th>9</th>\n",
       "      <td>muslim</td>\n",
       "      <td>redirects</td>\n",
       "      <td>source</td>\n",
       "      <td>fair</td>\n",
       "      <td>faggot</td>\n",
       "    </tr>\n",
       "  </tbody>\n",
       "</table>\n",
       "</div>"
      ],
      "text/plain": [
       "    Topic 1    Topic 2    Topic 3    Topic 4     Topic 5\n",
       "0       jew       dude    article      image        fuck\n",
       "1      http   redirect       page   deletion        test\n",
       "2  redirect      annoy       talk     speedy     sandbox\n",
       "3       www     korean       edit        tag  experiment\n",
       "4     greek       twat  wikipedia  copyright        suck\n",
       "5   country     retard     please     delete        shit\n",
       "6       com       till      block  criterion         gay\n",
       "7   british       damn     thanks       file       bitch\n",
       "8      kill   accident       make        jpg          as\n",
       "9    muslim  redirects     source       fair      faggot"
      ]
     },
     "execution_count": 92,
     "metadata": {},
     "output_type": "execute_result"
    }
   ],
   "source": [
    "topics_tfidf = show_topics(lda_tfidf,num_topics=5)\n",
    "topics_tfidf"
   ]
  },
  {
   "cell_type": "markdown",
   "metadata": {},
   "source": [
    "#### Looks promising! \n",
    "1. In this case too, topic 5 is clearly the most well-defined topic for obscenity/toxicity. The interesting bit is that Topic 1 now contains elements of identity-hate, which was absent in the LDA model with count features only. \n",
    "2. Topics 3 and 4 correspond to so-called 'clean' comments.\n",
    "\n",
    "3. Let's label the topics in the dataframe!"
   ]
  },
  {
   "cell_type": "code",
   "execution_count": 93,
   "metadata": {},
   "outputs": [
    {
     "data": {
      "text/html": [
       "<div>\n",
       "<style scoped>\n",
       "    .dataframe tbody tr th:only-of-type {\n",
       "        vertical-align: middle;\n",
       "    }\n",
       "\n",
       "    .dataframe tbody tr th {\n",
       "        vertical-align: top;\n",
       "    }\n",
       "\n",
       "    .dataframe thead th {\n",
       "        text-align: right;\n",
       "    }\n",
       "</style>\n",
       "<table border=\"1\" class=\"dataframe\">\n",
       "  <thead>\n",
       "    <tr style=\"text-align: right;\">\n",
       "      <th></th>\n",
       "      <th>identity_hate</th>\n",
       "      <th>toxic</th>\n",
       "      <th>clean</th>\n",
       "      <th>clean?</th>\n",
       "      <th>obscene</th>\n",
       "    </tr>\n",
       "  </thead>\n",
       "  <tbody>\n",
       "    <tr>\n",
       "      <th>0</th>\n",
       "      <td>jew</td>\n",
       "      <td>dude</td>\n",
       "      <td>article</td>\n",
       "      <td>image</td>\n",
       "      <td>fuck</td>\n",
       "    </tr>\n",
       "    <tr>\n",
       "      <th>1</th>\n",
       "      <td>http</td>\n",
       "      <td>redirect</td>\n",
       "      <td>page</td>\n",
       "      <td>deletion</td>\n",
       "      <td>test</td>\n",
       "    </tr>\n",
       "    <tr>\n",
       "      <th>2</th>\n",
       "      <td>redirect</td>\n",
       "      <td>annoy</td>\n",
       "      <td>talk</td>\n",
       "      <td>speedy</td>\n",
       "      <td>sandbox</td>\n",
       "    </tr>\n",
       "    <tr>\n",
       "      <th>3</th>\n",
       "      <td>www</td>\n",
       "      <td>korean</td>\n",
       "      <td>edit</td>\n",
       "      <td>tag</td>\n",
       "      <td>experiment</td>\n",
       "    </tr>\n",
       "    <tr>\n",
       "      <th>4</th>\n",
       "      <td>greek</td>\n",
       "      <td>twat</td>\n",
       "      <td>wikipedia</td>\n",
       "      <td>copyright</td>\n",
       "      <td>suck</td>\n",
       "    </tr>\n",
       "    <tr>\n",
       "      <th>5</th>\n",
       "      <td>country</td>\n",
       "      <td>retard</td>\n",
       "      <td>please</td>\n",
       "      <td>delete</td>\n",
       "      <td>shit</td>\n",
       "    </tr>\n",
       "    <tr>\n",
       "      <th>6</th>\n",
       "      <td>com</td>\n",
       "      <td>till</td>\n",
       "      <td>block</td>\n",
       "      <td>criterion</td>\n",
       "      <td>gay</td>\n",
       "    </tr>\n",
       "    <tr>\n",
       "      <th>7</th>\n",
       "      <td>british</td>\n",
       "      <td>damn</td>\n",
       "      <td>thanks</td>\n",
       "      <td>file</td>\n",
       "      <td>bitch</td>\n",
       "    </tr>\n",
       "    <tr>\n",
       "      <th>8</th>\n",
       "      <td>kill</td>\n",
       "      <td>accident</td>\n",
       "      <td>make</td>\n",
       "      <td>jpg</td>\n",
       "      <td>as</td>\n",
       "    </tr>\n",
       "    <tr>\n",
       "      <th>9</th>\n",
       "      <td>muslim</td>\n",
       "      <td>redirects</td>\n",
       "      <td>source</td>\n",
       "      <td>fair</td>\n",
       "      <td>faggot</td>\n",
       "    </tr>\n",
       "  </tbody>\n",
       "</table>\n",
       "</div>"
      ],
      "text/plain": [
       "  identity_hate      toxic      clean     clean?     obscene\n",
       "0           jew       dude    article      image        fuck\n",
       "1          http   redirect       page   deletion        test\n",
       "2      redirect      annoy       talk     speedy     sandbox\n",
       "3           www     korean       edit        tag  experiment\n",
       "4         greek       twat  wikipedia  copyright        suck\n",
       "5       country     retard     please     delete        shit\n",
       "6           com       till      block  criterion         gay\n",
       "7       british       damn     thanks       file       bitch\n",
       "8          kill   accident       make        jpg          as\n",
       "9        muslim  redirects     source       fair      faggot"
      ]
     },
     "execution_count": 93,
     "metadata": {},
     "output_type": "execute_result"
    }
   ],
   "source": [
    "topics_tfidf.columns = ['identity_hate', 'toxic', 'clean', 'clean?', 'obscene']\n",
    "topics_tfidf"
   ]
  },
  {
   "cell_type": "markdown",
   "metadata": {},
   "source": [
    "__I think the LDA model did a fair job given the fact that there was quite some overlap between the levels of toxicity.__"
   ]
  },
  {
   "cell_type": "markdown",
   "metadata": {},
   "source": [
    "### Visualizing the topics with `PyLDAvis`\n",
    "\n",
    "PyLDAvis is a Python port of the original software developed for R users. It provides an interactive way of visualising the topic distribution on the 2-dimensional Principal component space. Please check out this [paper](https://nlp.stanford.edu/events/illvi2014/papers/sievert-illvi2014.pdf) for the technical details about how it works."
   ]
  },
  {
   "cell_type": "code",
   "execution_count": 84,
   "metadata": {},
   "outputs": [],
   "source": [
    "import pyLDAvis\n",
    "pyLDAvis.enable_notebook()\n",
    "import pyLDAvis.gensim"
   ]
  },
  {
   "cell_type": "code",
   "execution_count": 44,
   "metadata": {},
   "outputs": [],
   "source": [
    "#lda = gensim.models.LdaModel.load('lda_10_topics.ldamodel')\n",
    "#corpus = gensim.corpora.MmCorpus('corpus.mm')\n",
    "#gensim_dict = gensim.corpora.Dictionary.load('dictionary.dict')"
   ]
  },
  {
   "cell_type": "markdown",
   "metadata": {},
   "source": [
    "- The visualisation below corresponds to the LDA model with count vectors."
   ]
  },
  {
   "cell_type": "code",
   "execution_count": 94,
   "metadata": {},
   "outputs": [
    {
     "name": "stderr",
     "output_type": "stream",
     "text": [
      "/Users/debashis/anaconda3/lib/python3.6/site-packages/pyLDAvis/_prepare.py:257: FutureWarning: Sorting because non-concatenation axis is not aligned. A future version\n",
      "of pandas will change to not sort by default.\n",
      "\n",
      "To accept the future behavior, pass 'sort=False'.\n",
      "\n",
      "To retain the current behavior and silence the warning, pass 'sort=True'.\n",
      "\n",
      "  return pd.concat([default_term_info] + list(topic_dfs))\n"
     ]
    },
    {
     "name": "stdout",
     "output_type": "stream",
     "text": [
      "181.91540963252385 mins\n"
     ]
    }
   ],
   "source": [
    "start = time.time()\n",
    "lda_display = pyLDAvis.gensim.prepare(lda_tfidf, corpus_tfidf, gensim_dict)\n",
    "end = time.time()\n",
    "print((end-start)/60,'mins')"
   ]
  },
  {
   "cell_type": "code",
   "execution_count": 97,
   "metadata": {},
   "outputs": [
    {
     "data": {
      "text/html": [
       "\n",
       "<link rel=\"stylesheet\" type=\"text/css\" href=\"https://cdn.rawgit.com/bmabey/pyLDAvis/files/ldavis.v1.0.0.css\">\n",
       "\n",
       "\n",
       "<div id=\"ldavis_el916191125099790486473746543\"></div>\n",
       "<script type=\"text/javascript\">\n",
       "\n",
       "var ldavis_el916191125099790486473746543_data = {\"mdsDat\": {\"x\": [-0.33007959323264907, 0.08368802231251642, 0.02116748582556985, 0.07996843240028409, 0.1452556526942788], \"y\": [-0.012041212876041029, -0.20108916390162915, 0.11504354442442845, 0.05864323286575227, 0.03944359948748947], \"topics\": [1, 2, 3, 4, 5], \"cluster\": [1, 1, 1, 1, 1], \"Freq\": [60.00471115112305, 13.519543647766113, 10.287735939025879, 9.297414779663086, 6.890590667724609]}, \"tinfo\": {\"Category\": [\"Default\", \"Default\", \"Default\", \"Default\", \"Default\", \"Default\", \"Default\", \"Default\", \"Default\", \"Default\", \"Default\", \"Default\", \"Default\", \"Default\", \"Default\", \"Default\", \"Default\", \"Default\", \"Default\", \"Default\", \"Default\", \"Default\", \"Default\", \"Default\", \"Default\", \"Default\", \"Default\", \"Default\", \"Default\", \"Default\", \"Topic1\", \"Topic1\", \"Topic1\", \"Topic1\", \"Topic1\", \"Topic1\", \"Topic1\", \"Topic1\", \"Topic1\", \"Topic1\", \"Topic1\", \"Topic1\", \"Topic1\", \"Topic1\", \"Topic1\", \"Topic1\", \"Topic1\", \"Topic1\", \"Topic1\", \"Topic1\", \"Topic1\", \"Topic1\", \"Topic1\", \"Topic1\", \"Topic1\", \"Topic1\", \"Topic1\", \"Topic1\", \"Topic1\", \"Topic1\", \"Topic1\", \"Topic1\", \"Topic1\", \"Topic1\", \"Topic1\", \"Topic1\", \"Topic1\", \"Topic1\", \"Topic1\", \"Topic1\", \"Topic1\", \"Topic1\", \"Topic1\", \"Topic1\", \"Topic1\", \"Topic1\", \"Topic1\", \"Topic1\", \"Topic1\", \"Topic1\", \"Topic1\", \"Topic1\", \"Topic1\", \"Topic1\", \"Topic1\", \"Topic1\", \"Topic1\", \"Topic1\", \"Topic1\", \"Topic1\", \"Topic1\", \"Topic1\", \"Topic1\", \"Topic1\", \"Topic1\", \"Topic1\", \"Topic1\", \"Topic1\", \"Topic1\", \"Topic1\", \"Topic1\", \"Topic1\", \"Topic1\", \"Topic1\", \"Topic1\", \"Topic1\", \"Topic1\", \"Topic1\", \"Topic1\", \"Topic1\", \"Topic2\", \"Topic2\", \"Topic2\", \"Topic2\", \"Topic2\", \"Topic2\", \"Topic2\", \"Topic2\", \"Topic2\", \"Topic2\", \"Topic2\", \"Topic2\", \"Topic2\", \"Topic2\", \"Topic2\", \"Topic2\", \"Topic2\", \"Topic2\", \"Topic2\", \"Topic2\", \"Topic2\", \"Topic2\", \"Topic2\", \"Topic2\", \"Topic2\", \"Topic2\", \"Topic2\", \"Topic2\", \"Topic2\", \"Topic2\", \"Topic2\", \"Topic2\", \"Topic2\", \"Topic2\", \"Topic2\", \"Topic2\", \"Topic2\", \"Topic2\", \"Topic2\", \"Topic2\", \"Topic2\", \"Topic2\", \"Topic2\", \"Topic2\", \"Topic2\", \"Topic2\", \"Topic2\", \"Topic2\", \"Topic2\", \"Topic2\", \"Topic2\", \"Topic2\", \"Topic2\", \"Topic2\", \"Topic2\", \"Topic2\", \"Topic2\", \"Topic2\", \"Topic2\", \"Topic2\", \"Topic2\", \"Topic2\", \"Topic3\", \"Topic3\", \"Topic3\", \"Topic3\", \"Topic3\", \"Topic3\", \"Topic3\", \"Topic3\", \"Topic3\", \"Topic3\", \"Topic3\", \"Topic3\", \"Topic3\", \"Topic3\", \"Topic3\", \"Topic3\", \"Topic3\", \"Topic3\", \"Topic3\", \"Topic3\", \"Topic3\", \"Topic3\", \"Topic3\", \"Topic3\", \"Topic3\", \"Topic3\", \"Topic3\", \"Topic3\", \"Topic3\", \"Topic3\", \"Topic3\", \"Topic3\", \"Topic3\", \"Topic3\", \"Topic3\", \"Topic3\", \"Topic3\", \"Topic3\", \"Topic3\", \"Topic3\", \"Topic3\", \"Topic3\", \"Topic3\", \"Topic3\", \"Topic3\", \"Topic3\", \"Topic3\", \"Topic3\", \"Topic3\", \"Topic3\", \"Topic3\", \"Topic3\", \"Topic3\", \"Topic3\", \"Topic3\", \"Topic3\", \"Topic3\", \"Topic3\", \"Topic3\", \"Topic3\", \"Topic3\", \"Topic3\", \"Topic3\", \"Topic3\", \"Topic3\", \"Topic3\", \"Topic4\", \"Topic4\", \"Topic4\", \"Topic4\", \"Topic4\", \"Topic4\", \"Topic4\", \"Topic4\", \"Topic4\", \"Topic4\", \"Topic4\", \"Topic4\", \"Topic4\", \"Topic4\", \"Topic4\", \"Topic4\", \"Topic4\", \"Topic4\", \"Topic4\", \"Topic4\", \"Topic4\", \"Topic4\", \"Topic4\", \"Topic4\", \"Topic4\", \"Topic4\", \"Topic4\", \"Topic4\", \"Topic4\", \"Topic4\", \"Topic4\", \"Topic4\", \"Topic4\", \"Topic4\", \"Topic4\", \"Topic4\", \"Topic4\", \"Topic4\", \"Topic4\", \"Topic4\", \"Topic4\", \"Topic4\", \"Topic4\", \"Topic4\", \"Topic4\", \"Topic4\", \"Topic4\", \"Topic4\", \"Topic4\", \"Topic4\", \"Topic4\", \"Topic4\", \"Topic4\", \"Topic4\", \"Topic4\", \"Topic4\", \"Topic4\", \"Topic5\", \"Topic5\", \"Topic5\", \"Topic5\", \"Topic5\", \"Topic5\", \"Topic5\", \"Topic5\", \"Topic5\", \"Topic5\", \"Topic5\", \"Topic5\", \"Topic5\", \"Topic5\", \"Topic5\", \"Topic5\", \"Topic5\", \"Topic5\", \"Topic5\", \"Topic5\", \"Topic5\", \"Topic5\", \"Topic5\", \"Topic5\", \"Topic5\", \"Topic5\", \"Topic5\", \"Topic5\", \"Topic5\", \"Topic5\", \"Topic5\", \"Topic5\", \"Topic5\", \"Topic5\", \"Topic5\", \"Topic5\", \"Topic5\", \"Topic5\", \"Topic5\", \"Topic5\", \"Topic5\"], \"Freq\": [815.0, 846.0, 761.0, 585.0, 2304.0, 1010.0, 367.0, 351.0, 369.0, 328.0, 1247.0, 287.0, 1660.0, 1780.0, 256.0, 831.0, 2266.0, 781.0, 310.0, 262.0, 1281.0, 258.0, 259.0, 1114.0, 935.0, 319.0, 391.0, 589.0, 668.0, 204.0, 682.6287841796875, 498.7811279296875, 557.427978515625, 450.4410095214844, 387.4609069824219, 318.6244201660156, 363.87640380859375, 370.8326416015625, 696.9182739257812, 387.94317626953125, 423.6966247558594, 360.7659606933594, 279.7411804199219, 343.03753662109375, 245.78541564941406, 349.9429931640625, 230.90884399414062, 298.2583923339844, 236.1346435546875, 229.0256805419922, 219.9917449951172, 284.26177978515625, 451.7635498046875, 274.9239196777344, 235.88955688476562, 295.9373474121094, 353.09686279296875, 298.7472229003906, 210.81655883789062, 208.8323211669922, 849.3703002929688, 1252.2991943359375, 871.2870483398438, 719.9390258789062, 596.3223876953125, 624.4920654296875, 679.7698364257812, 524.9548950195312, 485.793701171875, 1322.098388671875, 584.7320556640625, 779.3827514648438, 706.23193359375, 530.9630737304688, 521.5966796875, 543.6505737304688, 587.908935546875, 436.8266296386719, 1662.4420166015625, 761.9094848632812, 1122.3173828125, 556.5941772460938, 714.9420166015625, 531.4683227539062, 1201.005126953125, 920.7339477539062, 976.1829833984375, 1149.1534423828125, 772.6234130859375, 921.9110107421875, 1150.7891845703125, 1088.667724609375, 705.1490478515625, 2123.3876953125, 880.5302734375, 1107.2322998046875, 1255.0006103515625, 2054.5478515625, 1853.0880126953125, 889.08349609375, 1135.35791015625, 1104.9932861328125, 1544.77734375, 1112.6884765625, 1412.3172607421875, 1140.6014404296875, 871.4827880859375, 848.7215576171875, 920.103271484375, 963.60888671875, 126.36419677734375, 97.49781036376953, 79.16751098632812, 71.91535186767578, 71.81490325927734, 69.19796752929688, 78.98418426513672, 78.6715087890625, 61.750850677490234, 59.988250732421875, 59.985450744628906, 61.29400634765625, 59.09225082397461, 56.219337463378906, 55.51289367675781, 53.29599380493164, 53.514652252197266, 52.83167266845703, 48.54183578491211, 46.61262512207031, 47.33067321777344, 46.49150848388672, 48.704498291015625, 46.96539306640625, 45.5959358215332, 44.39301300048828, 45.32748794555664, 43.47652816772461, 44.17463684082031, 42.83377456665039, 177.96786499023438, 79.17745971679688, 66.38184356689453, 75.52086639404297, 55.69645690917969, 65.98924255371094, 61.05437469482422, 53.04231262207031, 76.45111083984375, 50.95331954956055, 53.03700637817383, 49.9040641784668, 98.20307922363281, 65.71273040771484, 143.0946502685547, 76.31095886230469, 77.34780883789062, 63.86958694458008, 74.3475112915039, 160.83251953125, 124.78667449951172, 101.31520080566406, 98.56221008300781, 89.58258056640625, 145.07545471191406, 118.4256362915039, 73.54742431640625, 98.07613372802734, 81.05548095703125, 89.40428161621094, 72.01201629638672, 81.19609069824219, 350.7073669433594, 197.99862670898438, 132.16944885253906, 98.47315979003906, 89.09514617919922, 76.51988983154297, 74.58111572265625, 76.79145050048828, 68.92200469970703, 64.17031860351562, 68.88155364990234, 60.08207321166992, 54.82914352416992, 54.64653778076172, 59.26616668701172, 49.16118621826172, 47.38121795654297, 47.25074005126953, 46.94564437866211, 48.95368576049805, 46.54829788208008, 48.72882843017578, 45.07146453857422, 44.802181243896484, 44.05706024169922, 44.80744171142578, 43.35307312011719, 43.95408630371094, 42.301429748535156, 42.373470306396484, 90.2557144165039, 60.13963317871094, 136.5539093017578, 93.25471496582031, 55.420223236083984, 75.91847229003906, 705.86669921875, 58.49774169921875, 112.46560668945312, 296.2920837402344, 214.83616638183594, 206.02499389648438, 470.0334777832031, 52.64716720581055, 75.72679901123047, 325.9184875488281, 197.62692260742188, 102.09857940673828, 123.26453399658203, 135.5476531982422, 87.28617858886719, 222.82223510742188, 137.83642578125, 91.51712799072266, 161.2775115966797, 175.75914001464844, 176.25595092773438, 92.7755355834961, 136.45790100097656, 113.56144714355469, 105.27523040771484, 116.71520233154297, 140.84814453125, 133.59622192382812, 132.72682189941406, 97.91834259033203, 255.6464080810547, 164.08265686035156, 153.40101623535156, 203.8894805908203, 186.72500610351562, 133.74041748046875, 129.2874755859375, 101.0828857421875, 92.74529266357422, 91.42121124267578, 88.83684539794922, 161.8686981201172, 85.05670166015625, 70.30452728271484, 68.9694595336914, 58.8830680847168, 59.565433502197266, 61.961002349853516, 59.400875091552734, 57.469303131103516, 52.25679397583008, 52.479042053222656, 53.999366760253906, 50.472686767578125, 50.924827575683594, 51.47813034057617, 51.2799072265625, 48.86623001098633, 46.69355010986328, 44.31979751586914, 798.1019897460938, 72.77099609375, 130.83468627929688, 266.0177001953125, 75.37169647216797, 326.1087646484375, 281.8221435546875, 176.75985717773438, 220.18829345703125, 77.94490814208984, 73.77727508544922, 105.04930877685547, 86.35610961914062, 138.241943359375, 110.60250854492188, 123.95140075683594, 115.2907485961914, 102.22615814208984, 106.35472869873047, 118.1160659790039, 119.00780487060547, 107.386474609375, 112.06981658935547, 102.01644134521484, 104.396728515625, 103.17457580566406, 102.10273742675781, 59.27194595336914, 52.11390686035156, 52.51811599731445, 47.40216827392578, 47.74136734008789, 43.75570297241211, 42.1051139831543, 38.538330078125, 37.98516845703125, 37.69430923461914, 36.535465240478516, 38.48100280761719, 37.28693771362305, 36.54878616333008, 35.24030685424805, 35.8079833984375, 34.92302322387695, 35.08558654785156, 34.398048400878906, 32.5329704284668, 31.73663330078125, 31.235836029052734, 30.88568115234375, 35.970272064208984, 29.76447296142578, 30.388334274291992, 29.97721290588379, 31.828149795532227, 28.870676040649414, 29.58946990966797, 30.83186149597168, 30.38815689086914, 30.64676856994629, 31.097515106201172, 113.58734130859375, 41.519649505615234, 44.773956298828125, 50.195884704589844, 36.19483184814453, 47.44088363647461, 76.57586669921875], \"Term\": [\"fuck\", \"image\", \"deletion\", \"tag\", \"article\", \"delete\", \"test\", \"speedy\", \"copyright\", \"sandbox\", \"use\", \"experiment\", \"please\", \"wikipedia\", \"suck\", \"revert\", \"page\", \"may\", \"fair\", \"shit\", \"like\", \"criterion\", \"file\", \"add\", \"thank\", \"learn\", \"subject\", \"welcome\", \"vandalism\", \"gay\", \"editor\", \"personal\", \"attack\", \"account\", \"address\", \"answer\", \"admin\", \"reply\", \"point\", \"view\", \"opinion\", \"else\", \"action\", \"others\", \"unblock\", \"consensus\", \"decide\", \"instead\", \"respond\", \"mistake\", \"faith\", \"happen\", \"might\", \"wish\", \"relevant\", \"clear\", \"idea\", \"statement\", \"paragraph\", \"ignore\", \"help\", \"make\", \"good\", \"try\", \"someone\", \"post\", \"thing\", \"agree\", \"anything\", \"block\", \"let\", \"change\", \"way\", \"something\", \"issue\", \"keep\", \"continue\", \"understand\", \"edit\", \"edits\", \"user\", \"sorry\", \"write\", \"since\", \"source\", \"need\", \"well\", \"one\", \"section\", \"time\", \"know\", \"think\", \"could\", \"article\", \"comment\", \"say\", \"thanks\", \"page\", \"talk\", \"link\", \"get\", \"see\", \"wikipedia\", \"would\", \"please\", \"like\", \"people\", \"also\", \"add\", \"use\", \"greek\", \"president\", \"ball\", \"bastard\", \"obama\", \"islam\", \"crime\", \"bunch\", \"rape\", \"macedonian\", \"iranian\", \"roll\", \"catch\", \"iran\", \"kiss\", \"fascist\", \"fuckin\", \"royal\", \"shoot\", \"korea\", \"statistic\", \"massacre\", \"dirty\", \"blind\", \"card\", \"asian\", \"britain\", \"islamic\", \"hero\", \"nationalist\", \"jew\", \"arab\", \"speaker\", \"island\", \"japan\", \"queen\", \"canadian\", \"division\", \"catholic\", \"illegal\", \"river\", \"turkish\", \"muslim\", \"japanese\", \"www\", \"israel\", \"russian\", \"east\", \"south\", \"http\", \"country\", \"british\", \"kill\", \"map\", \"redirect\", \"com\", \"population\", \"american\", \"national\", \"world\", \"german\", \"state\", \"speedy\", \"jpg\", \"uploaded\", \"license\", \"feedback\", \"dyk\", \"speedily\", \"feb\", \"footnote\", \"fake\", \"chart\", \"buddy\", \"rollback\", \"energy\", \"erase\", \"prose\", \"newsletter\", \"fatuorum\", \"png\", \"notification\", \"christmas\", \"doc\", \"steve\", \"cell\", \"height\", \"republican\", \"fac\", \"nasty\", \"spoiler\", \"williams\", \"jan\", \"prod\", \"upload\", \"logo\", \"speed\", \"opening\", \"image\", \"solution\", \"rationale\", \"copyright\", \"criterion\", \"file\", \"deletion\", \"fucker\", \"location\", \"tag\", \"fair\", \"contest\", \"medium\", \"guideline\", \"confirm\", \"delete\", \"subject\", \"indicate\", \"may\", \"use\", \"article\", \"company\", \"add\", \"note\", \"notable\", \"list\", \"page\", \"please\", \"wikipedia\", \"free\", \"suck\", \"faggot\", \"asshole\", \"gay\", \"bitch\", \"cunt\", \"na\", \"gon\", \"cock\", \"fag\", \"talkback\", \"dick\", \"jerk\", \"width\", \"align\", \"mom\", \"sockpuppetry\", \"gun\", \"hitler\", \"merger\", \"vertical\", \"bye\", \"shame\", \"motherfucker\", \"wan\", \"unit\", \"angry\", \"portal\", \"clue\", \"birthday\", \"fuck\", \"genre\", \"sockpuppet\", \"experiment\", \"loser\", \"test\", \"sandbox\", \"as\", \"shit\", \"pic\", \"fat\", \"color\", \"shut\", \"learn\", \"nonsense\", \"contribute\", \"encyclopedia\", \"stupid\", \"hey\", \"thank\", \"like\", \"revert\", \"please\", \"welcome\", \"want\", \"use\", \"wikipedia\", \"annoy\", \"twat\", \"korean\", \"accident\", \"till\", \"hmm\", \"canvass\", \"imdb\", \"copyedit\", \"header\", \"prick\", \"holy\", \"texas\", \"iii\", \"congrats\", \"saint\", \"homo\", \"cold\", \"aug\", \"ping\", \"calendar\", \"plant\", \"rat\", \"holocaust\", \"yep\", \"opera\", \"password\", \"patience\", \"holla\", \"string\", \"cyprus\", \"rush\", \"harrassment\", \"earn\", \"dude\", \"awesome\", \"redirects\", \"retard\", \"hack\", \"damn\", \"redirect\"], \"Total\": [815.0, 846.0, 761.0, 585.0, 2304.0, 1010.0, 367.0, 351.0, 369.0, 328.0, 1247.0, 287.0, 1660.0, 1780.0, 256.0, 831.0, 2266.0, 781.0, 310.0, 262.0, 1281.0, 258.0, 259.0, 1114.0, 935.0, 319.0, 391.0, 589.0, 668.0, 204.0, 683.3783569335938, 499.4444885253906, 558.2620849609375, 451.36199951171875, 388.2591552734375, 319.2851257324219, 364.6375427246094, 371.6396179199219, 698.448486328125, 388.79998779296875, 424.6352233886719, 361.5762023925781, 280.3962097167969, 343.8916320800781, 246.44955444335938, 350.903076171875, 231.56163024902344, 299.1239929199219, 236.8243865966797, 229.70037841796875, 220.64064025878906, 285.10174560546875, 453.10321044921875, 275.7442932128906, 236.60610961914062, 296.837890625, 354.17816162109375, 299.67138671875, 211.47283935546875, 209.4830322265625, 852.7018432617188, 1264.0013427734375, 876.3719482421875, 723.4284057617188, 598.2276000976562, 626.8992309570312, 682.9833374023438, 526.7355346679688, 487.3177795410156, 1340.157470703125, 587.9376831054688, 786.106689453125, 711.7249145507812, 533.7174072265625, 524.4013061523438, 546.9141235351562, 591.9166259765625, 438.80023193359375, 1697.5892333984375, 770.65234375, 1146.6300048828125, 560.6785278320312, 724.447265625, 535.7523193359375, 1231.62255859375, 942.7470703125, 1001.4559936523438, 1194.635009765625, 790.0365600585938, 950.6690063476562, 1201.4888916015625, 1134.7330322265625, 718.8572387695312, 2304.652587890625, 908.6058349609375, 1162.1917724609375, 1329.8056640625, 2266.283203125, 2083.239990234375, 928.1925048828125, 1221.8533935546875, 1196.115478515625, 1780.9566650390625, 1221.881591796875, 1660.428955078125, 1281.6209716796875, 929.9026489257812, 907.6832885742188, 1114.763916015625, 1247.18505859375, 127.06909942626953, 98.28345489501953, 79.82798767089844, 72.5638198852539, 72.46611785888672, 69.85585021972656, 79.74653625488281, 79.45586395263672, 62.407257080078125, 60.62929153442383, 60.6302490234375, 61.95894241333008, 59.756534576416016, 56.86354064941406, 56.16701889038086, 53.950069427490234, 54.17686462402344, 53.493282318115234, 49.19962692260742, 47.258384704589844, 47.99104309082031, 47.14105987548828, 49.390174865722656, 47.6429443359375, 46.25518035888672, 45.04061508178711, 45.990020751953125, 44.12038040161133, 44.83153533935547, 43.4770622253418, 180.74539184570312, 80.64837646484375, 67.557373046875, 77.07394409179688, 56.653045654296875, 67.54793548583984, 62.50320816040039, 54.03398895263672, 79.14608764648438, 51.85593032836914, 54.19939422607422, 50.84196090698242, 115.00403594970703, 72.3860855102539, 230.06671142578125, 95.39299774169922, 99.96989440917969, 73.10364532470703, 96.41259002685547, 401.23193359375, 256.1473083496094, 181.86692810058594, 173.88687133789062, 153.11854553222656, 483.03338623046875, 302.2690734863281, 100.79702758789062, 258.5955810546875, 148.1829376220703, 358.548583984375, 157.1936798095703, 536.0094604492188, 351.5639953613281, 198.6410369873047, 132.8118438720703, 99.11861419677734, 89.75846099853516, 77.16776275634766, 75.22574615478516, 77.46142578125, 69.61149597167969, 64.84938049316406, 69.62215423583984, 60.74184036254883, 55.47507858276367, 55.30637741088867, 59.99352264404297, 49.82493591308594, 48.02491760253906, 47.89668655395508, 47.58972930908203, 49.62889099121094, 47.20238494873047, 49.41517639160156, 45.73216247558594, 45.46992492675781, 44.72273635864258, 45.49124526977539, 44.01787567138672, 44.62891387939453, 42.953617095947266, 43.03476333618164, 92.177978515625, 61.57079315185547, 143.87753295898438, 97.0005874633789, 56.80535888671875, 79.1898193359375, 846.9204711914062, 60.66357421875, 125.55557250976562, 369.8693542480469, 258.4331359863281, 259.449462890625, 761.8590698242188, 54.34955978393555, 86.48469543457031, 585.337890625, 310.9991455078125, 136.6197052001953, 211.0231475830078, 296.7584533691406, 129.39059448242188, 1010.8905639648438, 391.21051025390625, 155.2314910888672, 781.7017211914062, 1247.18505859375, 2304.652587890625, 192.45863342285156, 1114.763916015625, 512.0909423828125, 361.2627258300781, 705.0196533203125, 2266.283203125, 1660.428955078125, 1780.9566650390625, 400.5152893066406, 256.5495300292969, 164.8018798828125, 154.1025390625, 204.90261840820312, 187.6731719970703, 134.42901611328125, 129.95797729492188, 101.74360656738281, 93.40084838867188, 92.06895446777344, 89.48576354980469, 163.05593872070312, 85.726318359375, 70.95391082763672, 69.62161254882812, 59.5379638671875, 60.23358917236328, 62.65875244140625, 60.076656341552734, 58.13803482055664, 52.90795135498047, 53.13883972167969, 54.6797981262207, 51.12020492553711, 51.590545654296875, 52.157684326171875, 51.965152740478516, 49.53315734863281, 47.363304138183594, 44.98225402832031, 815.078857421875, 73.9136734008789, 135.87950134277344, 287.4581604003906, 77.73402404785156, 367.60772705078125, 328.5311584472656, 201.26597595214844, 262.54058837890625, 85.59281158447266, 81.12507629394531, 158.0820770263672, 119.87340545654297, 319.3431396484375, 232.29827880859375, 305.4158935546875, 329.97479248046875, 259.1026306152344, 371.3887939453125, 935.0057373046875, 1281.6209716796875, 831.9225463867188, 1660.428955078125, 589.9488525390625, 909.0247192382812, 1247.18505859375, 1780.9566650390625, 59.93775939941406, 52.7681884765625, 53.197635650634766, 48.08141326904297, 48.432701110839844, 44.413238525390625, 42.77176284790039, 39.192100524902344, 38.65664291381836, 38.36195755004883, 37.189170837402344, 39.17041015625, 37.9577522277832, 37.222293853759766, 35.89118194580078, 36.47138595581055, 35.579036712646484, 35.765586853027344, 35.071598052978516, 33.191009521484375, 32.39277648925781, 31.908309936523438, 31.558544158935547, 36.758365631103516, 30.416662216186523, 31.056507110595703, 30.63815689086914, 32.53256607055664, 29.516489028930664, 30.25339126586914, 31.529415130615234, 31.07309341430664, 31.34685707092285, 31.854028701782227, 133.19970703125, 44.92742156982422, 53.44371795654297, 97.89404296875, 46.46461486816406, 97.49551391601562, 483.03338623046875], \"loglift\": [30.0, 29.0, 28.0, 27.0, 26.0, 25.0, 24.0, 23.0, 22.0, 21.0, 20.0, 19.0, 18.0, 17.0, 16.0, 15.0, 14.0, 13.0, 12.0, 11.0, 10.0, 9.0, 8.0, 7.0, 6.0, 5.0, 4.0, 3.0, 2.0, 1.0, 0.5095999836921692, 0.5094000101089478, 0.5092999935150146, 0.5087000131607056, 0.5087000131607056, 0.5087000131607056, 0.5087000131607056, 0.5085999965667725, 0.5085999965667725, 0.5084999799728394, 0.5084999799728394, 0.5084999799728394, 0.508400022983551, 0.5083000063896179, 0.5080000162124634, 0.5080000162124634, 0.5078999996185303, 0.5077999830245972, 0.5077999830245972, 0.5077999830245972, 0.5077999830245972, 0.5077999830245972, 0.5077999830245972, 0.5077999830245972, 0.5077000260353088, 0.5077000260353088, 0.5077000260353088, 0.5077000260353088, 0.5076000094413757, 0.5076000094413757, 0.5067999958992004, 0.5013999938964844, 0.5048999786376953, 0.5059000253677368, 0.5076000094413757, 0.5069000124931335, 0.5059999823570251, 0.5073999762535095, 0.5076000094413757, 0.49720001220703125, 0.505299985408783, 0.5022000074386597, 0.503000020980835, 0.5055999755859375, 0.5054000020027161, 0.504800021648407, 0.5040000081062317, 0.5062000155448914, 0.48980000615119934, 0.4993000030517578, 0.489300012588501, 0.5034000277519226, 0.4975000023841858, 0.5026999711990356, 0.48559999465942383, 0.4871000051498413, 0.4851999878883362, 0.47189998626708984, 0.4884999990463257, 0.47999998927116394, 0.4675999879837036, 0.4693000018596649, 0.49149999022483826, 0.42879998683929443, 0.47940000891685486, 0.46230000257492065, 0.4528999924659729, 0.41269999742507935, 0.3937000036239624, 0.4677000045776367, 0.4372999966144562, 0.43149998784065247, 0.3684999942779541, 0.4171000123023987, 0.3488999903202057, 0.39419999718666077, 0.44589999318122864, 0.44359999895095825, 0.3188000023365021, 0.25279998779296875, 1.9954999685287476, 1.9930000305175781, 1.9926999807357788, 1.9921000003814697, 1.9919999837875366, 1.9916000366210938, 1.9914000034332275, 1.9910999536514282, 1.9904999732971191, 1.990399956703186, 1.9903000593185425, 1.9902000427246094, 1.98989999294281, 1.9895999431610107, 1.989300012588501, 1.988800048828125, 1.988700032234192, 1.9886000156402588, 1.9875999689102173, 1.9873000383377075, 1.9872000217437744, 1.9872000217437744, 1.9871000051498413, 1.9867000579833984, 1.9867000579833984, 1.9866000413894653, 1.9865000247955322, 1.986299991607666, 1.986299991607666, 1.9860999584197998, 1.9854999780654907, 1.9825999736785889, 1.9835000038146973, 1.9807000160217285, 1.9839999675750732, 1.9776999950408936, 1.9775999784469604, 1.9824999570846558, 1.9664000272750854, 1.9835000038146973, 1.9794000387191772, 1.9823999404907227, 1.8430999517440796, 1.9042999744415283, 1.5262000560760498, 1.7777999639511108, 1.7445000410079956, 1.8660000562667847, 1.7410999536514282, 1.086899995803833, 1.2819000482559204, 1.4160000085830688, 1.4333000183105469, 1.465000033378601, 0.7982000112533569, 1.0640000104904175, 1.6858999729156494, 1.031499981880188, 1.3976999521255493, 0.6121000051498413, 1.2203999757766724, 0.1137000024318695, 2.2718000411987305, 2.2709999084472656, 2.269399881362915, 2.267699956893921, 2.2667999267578125, 2.2657999992370605, 2.2655999660491943, 2.265500068664551, 2.2643001079559326, 2.263700008392334, 2.2634999752044678, 2.2632999420166016, 2.262500047683716, 2.262200117111206, 2.26200008392334, 2.2607998847961426, 2.260699987411499, 2.2606000900268555, 2.2606000900268555, 2.260499954223633, 2.2602999210357666, 2.260200023651123, 2.259700059890747, 2.259399890899658, 2.259200096130371, 2.2590999603271484, 2.259000062942505, 2.259000062942505, 2.2588999271392822, 2.258699893951416, 2.2530999183654785, 2.250699996948242, 2.2219998836517334, 2.234800100326538, 2.249500036239624, 2.2320001125335693, 2.0920000076293945, 2.2379000186920166, 2.164099931716919, 2.0524001121520996, 2.0894999504089355, 2.0436999797821045, 1.7913000583648682, 2.2423999309539795, 2.141400098800659, 1.6886999607086182, 1.8207999467849731, 1.9830000400543213, 1.7366000413894653, 1.4905999898910522, 1.8805999755859375, 0.7620000243186951, 1.2309999465942383, 1.7458000183105469, 0.695900022983551, 0.31470000743865967, -0.29649999737739563, 1.5444999933242798, 0.1738000065088272, 0.7681000232696533, 1.041200041770935, 0.4756999909877777, -0.5040000081062317, -0.24580000340938568, -0.3224000036716461, 0.8655999898910522, 2.3719000816345215, 2.3710999488830566, 2.3708999156951904, 2.370500087738037, 2.3703999519348145, 2.370300054550171, 2.370300054550171, 2.3689000606536865, 2.3684000968933105, 2.3684000968933105, 2.3682000637054443, 2.3680999279022217, 2.3675999641418457, 2.3661999702453613, 2.365999937057495, 2.3643999099731445, 2.364300012588501, 2.3642001152038574, 2.3640999794006348, 2.3638999462127686, 2.363100051879883, 2.3629000186920166, 2.3629000186920166, 2.3626999855041504, 2.3624000549316406, 2.362299919128418, 2.3622000217437744, 2.3619000911712646, 2.3612000942230225, 2.360599994659424, 2.3543999195098877, 2.3598999977111816, 2.337599992752075, 2.2978999614715576, 2.344599962234497, 2.2555999755859375, 2.222100019454956, 2.2455999851226807, 2.19950008392334, 2.2818000316619873, 2.2804999351501465, 1.9666999578475952, 2.047499895095825, 1.5382000207901, 1.6333999633789062, 1.4736000299453735, 1.3238999843597412, 1.4453999996185303, 1.125, 0.30649998784065247, -0.0013000000035390258, 0.3280999958515167, -0.32030001282691956, 0.6205000281333923, 0.21130000054836273, -0.11680000275373459, -0.48350000381469727, 2.663800001144409, 2.6624999046325684, 2.6621999740600586, 2.660799980163574, 2.660599946975708, 2.660099983215332, 2.6593000888824463, 2.6582000255584717, 2.6575000286102295, 2.6575000286102295, 2.6572999954223633, 2.6572999954223633, 2.6572000980377197, 2.6568000316619873, 2.6566998958587646, 2.6566998958587646, 2.656399965286255, 2.6558001041412354, 2.655600070953369, 2.6549999713897705, 2.6545000076293945, 2.653700113296509, 2.6535000801086426, 2.6533000469207764, 2.6533000469207764, 2.6533000469207764, 2.6531999111175537, 2.65310001373291, 2.652899980545044, 2.6528000831604004, 2.652600049972534, 2.6526999473571777, 2.652400016784668, 2.6510000228881836, 2.515700101852417, 2.596100091934204, 2.497999906539917, 2.0071001052856445, 2.4251999855041504, 1.954699993133545, 0.8331999778747559], \"logprob\": [30.0, 29.0, 28.0, 27.0, 26.0, 25.0, 24.0, 23.0, 22.0, 21.0, 20.0, 19.0, 18.0, 17.0, 16.0, 15.0, 14.0, 13.0, 12.0, 11.0, 10.0, 9.0, 8.0, 7.0, 6.0, 5.0, 4.0, 3.0, 2.0, 1.0, -6.289100170135498, -6.60290002822876, -6.491700172424316, -6.704800128936768, -6.855400085449219, -7.051000118255615, -6.9182000160217285, -6.8993000984191895, -6.268400192260742, -6.8541998863220215, -6.765999794006348, -6.926799774169922, -7.18120002746582, -6.977200031280518, -7.3105998039245605, -6.957300186157227, -7.373000144958496, -7.117099761962891, -7.3506999015808105, -7.381199836730957, -7.421500205993652, -7.165200233459473, -6.701900005340576, -7.198599815368652, -7.3516998291015625, -7.124899864196777, -6.948299884796143, -7.115499973297119, -7.464099884033203, -7.473499774932861, -6.0706000328063965, -5.682300090789795, -6.045100212097168, -6.235899925231934, -6.424300193786621, -6.3780999183654785, -6.293300151824951, -6.551700115203857, -6.629300117492676, -5.6280999183654785, -6.443900108337402, -6.156599998474121, -6.255099773406982, -6.54040002822876, -6.558199882507324, -6.51669979095459, -6.438499927520752, -6.735499858856201, -5.39900016784668, -6.179200172424316, -5.791900157928467, -6.493199825286865, -6.2428998947143555, -6.539400100708008, -5.724100112915039, -5.9899001121521, -5.931399822235107, -5.7683000564575195, -6.165299892425537, -5.98859977722168, -5.766900062561035, -5.822299957275391, -6.2565999031066895, -5.154300212860107, -6.0345001220703125, -5.8053998947143555, -5.680200099945068, -5.18720006942749, -5.29040002822876, -6.024899959564209, -5.780399799346924, -5.807499885559082, -5.472400188446045, -5.80049991607666, -5.562099933624268, -5.775700092315674, -6.044899940490723, -6.071300029754639, -5.990600109100342, -5.944399833679199, -6.485599994659424, -6.744900226593018, -6.953199863433838, -7.049300193786621, -7.0507001876831055, -7.087800025939941, -6.95550012588501, -6.959499835968018, -7.201700210571289, -7.230599880218506, -7.2307000160217285, -7.209099769592285, -7.245699882507324, -7.295499801635742, -7.308199882507324, -7.348899841308594, -7.344799995422363, -7.357699871063232, -7.442299842834473, -7.482900142669678, -7.467599868774414, -7.485499858856201, -7.439000129699707, -7.475399971008301, -7.504899978637695, -7.531700134277344, -7.510900020599365, -7.552499771118164, -7.536600112915039, -7.567399978637695, -6.143199920654297, -6.953100204467773, -7.129300117492676, -7.000400066375732, -7.304900169372559, -7.135300159454346, -7.2129998207092285, -7.353700160980225, -6.988100051879883, -7.393899917602539, -7.353799819946289, -7.414700031280518, -6.73769998550415, -7.139500141143799, -6.361299991607666, -6.989999771118164, -6.976500034332275, -7.167900085449219, -7.015999794006348, -6.2444000244140625, -6.498199939727783, -6.706500053405762, -6.734099864959717, -6.829599857330322, -6.347499847412109, -6.55049991607666, -7.026800155639648, -6.738999843597412, -6.929599761962891, -6.831600189208984, -7.047900199890137, -6.9278998374938965, -5.1915998458862305, -5.763299942016602, -6.167500019073486, -6.4618000984191895, -6.5619001388549805, -6.714000225067139, -6.739699840545654, -6.7104997634887695, -6.818600177764893, -6.889999866485596, -6.819200038909912, -6.955900192260742, -7.047399997711182, -7.0507001876831055, -6.9695000648498535, -7.156499862670898, -7.193399906158447, -7.196100234985352, -7.202600002288818, -7.160699844360352, -7.211100101470947, -7.165299892425537, -7.243299961090088, -7.249300003051758, -7.26609992980957, -7.249199867248535, -7.282199859619141, -7.268400192260742, -7.30679988861084, -7.305099964141846, -6.548900127410889, -6.954899787902832, -6.134900093078613, -6.516200065612793, -7.036600112915039, -6.72189998626709, -4.492199897766113, -6.982600212097168, -6.32889986038208, -5.360199928283691, -5.681700229644775, -5.723599910736084, -4.898799896240234, -7.0879998207092285, -6.7245001792907715, -5.264900207519531, -5.765200138092041, -6.425600051879883, -6.237299919128418, -6.142300128936768, -6.582399845123291, -5.645199775695801, -6.125500202178955, -6.535099983215332, -5.968500137329102, -5.882500171661377, -5.8796000480651855, -6.521399974822998, -6.1356000900268555, -6.319200038909912, -6.394999980926514, -6.291800022125244, -6.103899955749512, -6.156799793243408, -6.163300037384033, -6.467400074005127, -5.406599998474121, -5.849999904632568, -5.917300224304199, -5.632800102233887, -5.720699787139893, -6.054500102996826, -6.0883002281188965, -6.334400177001953, -6.420499801635742, -6.434899806976318, -6.463600158691406, -5.86359977722168, -6.506999969482422, -6.697500228881836, -6.716700077056885, -6.874800205230713, -6.86329984664917, -6.82390022277832, -6.866099834442139, -6.899099826812744, -6.994200229644775, -6.989999771118164, -6.961400032043457, -7.028900146484375, -7.019999980926514, -7.009200096130371, -7.0131001472473145, -7.061299800872803, -7.106800079345703, -7.158899784088135, -4.268099784851074, -6.663000106811523, -6.076399803161621, -5.366799831390381, -6.627900123596191, -5.163099765777588, -5.309100151062012, -5.775599956512451, -5.5559000968933105, -6.594399929046631, -6.6493000984191895, -6.295899868011475, -6.4918999671936035, -6.021399974822998, -6.2444000244140625, -6.130499839782715, -6.202899932861328, -6.323200225830078, -6.283599853515625, -6.178699970245361, -6.171199798583984, -6.273900032043457, -6.231200218200684, -6.325200080871582, -6.302199840545654, -6.313899993896484, -6.324399948120117, -6.568699836730957, -6.697400093078613, -6.689599990844727, -6.792099952697754, -6.784999847412109, -6.872200012207031, -6.910600185394287, -6.999100208282471, -7.013599872589111, -7.021299839019775, -7.052499771118164, -7.0005998611450195, -7.032100200653076, -7.05210018157959, -7.088600158691406, -7.0725998878479, -7.097599983215332, -7.0929999351501465, -7.112800121307373, -7.168499946594238, -7.193299770355225, -7.209199905395508, -7.2204999923706055, -7.0680999755859375, -7.257500171661377, -7.236700057983398, -7.250400066375732, -7.190400123596191, -7.288000106811523, -7.263400077819824, -7.2221999168396, -7.236700057983398, -7.228300094604492, -7.213699817657471, -5.9182000160217285, -6.924600124359131, -6.8491997718811035, -6.734899997711182, -7.0619001388549805, -6.791299819946289, -6.3125]}, \"token.table\": {\"Topic\": [5, 1, 1, 1, 2, 3, 4, 1, 1, 1, 2, 3, 4, 1, 2, 3, 4, 1, 2, 4, 5, 1, 1, 2, 1, 2, 1, 2, 3, 4, 1, 2, 4, 2, 4, 1, 5, 3, 5, 2, 2, 4, 4, 2, 1, 4, 5, 2, 1, 2, 3, 2, 4, 5, 2, 3, 5, 2, 2, 2, 5, 3, 1, 2, 3, 4, 3, 3, 1, 4, 4, 5, 1, 4, 1, 2, 3, 4, 5, 1, 3, 4, 1, 3, 2, 3, 4, 5, 5, 1, 1, 3, 1, 5, 1, 3, 4, 5, 1, 3, 1, 2, 3, 4, 1, 2, 2, 1, 3, 4, 5, 2, 3, 5, 1, 1, 3, 4, 1, 3, 2, 4, 2, 2, 3, 2, 5, 3, 5, 1, 2, 1, 3, 4, 5, 1, 1, 4, 1, 1, 3, 4, 3, 3, 1, 4, 3, 4, 4, 1, 3, 1, 3, 2, 2, 4, 3, 3, 3, 1, 3, 3, 1, 3, 1, 2, 4, 5, 3, 4, 2, 4, 3, 4, 1, 2, 4, 1, 2, 3, 4, 5, 4, 1, 2, 3, 4, 2, 1, 3, 4, 2, 5, 1, 5, 5, 3, 1, 3, 4, 2, 1, 2, 3, 4, 5, 4, 5, 5, 5, 5, 5, 1, 2, 3, 4, 1, 1, 5, 2, 1, 3, 4, 5, 1, 3, 1, 2, 2, 2, 2, 2, 3, 4, 1, 2, 1, 3, 3, 4, 2, 2, 3, 4, 1, 2, 3, 1, 2, 3, 4, 1, 2, 4, 2, 1, 2, 3, 4, 5, 2, 5, 1, 4, 1, 2, 3, 4, 3, 1, 2, 3, 4, 5, 1, 3, 4, 1, 2, 3, 4, 3, 4, 5, 2, 3, 1, 2, 4, 2, 1, 2, 3, 4, 2, 3, 2, 1, 3, 4, 1, 2, 3, 4, 1, 3, 1, 4, 4, 1, 2, 4, 3, 1, 2, 3, 2, 1, 2, 3, 4, 3, 1, 4, 1, 3, 1, 2, 3, 3, 2, 1, 2, 3, 4, 3, 5, 5, 1, 1, 1, 2, 3, 4, 5, 1, 5, 5, 1, 2, 3, 4, 1, 1, 4, 5, 5, 1, 3, 4, 5, 3, 1, 2, 3, 1, 2, 3, 4, 1, 3, 4, 2, 5, 1, 3, 3, 2, 4, 2, 5, 1, 3, 1, 2, 3, 4, 5, 4, 5, 1, 1, 3, 1, 1, 2, 5, 1, 4, 2, 5, 2, 3, 2, 5, 1, 2, 5, 1, 4, 1, 2, 3, 4, 5, 1, 2, 3, 1, 2, 3, 4, 4, 1, 2, 4, 2, 1, 2, 4, 1, 2, 3, 2, 4, 4, 3, 4, 1, 2, 3, 1, 2, 4, 1, 3, 4, 5, 1, 2, 3, 1, 2, 2, 3, 3, 4, 3, 3, 3, 1, 2, 3, 1, 2, 3, 5, 1, 2, 4, 1, 3, 4, 1, 3, 1, 2, 3, 4, 5, 4, 1, 4, 5, 1, 3, 4, 1, 2, 3, 4, 5, 1, 2, 4, 1, 2, 3, 4, 5, 1, 2, 3, 4, 1, 2, 3, 4, 2, 5, 1, 1, 3, 4, 4, 3, 4, 3, 1, 2, 3, 4, 1, 2, 3, 4, 5, 1, 4, 4, 1, 4, 1, 2, 3, 4, 1, 2, 3, 4, 1, 3, 4, 1, 2, 3, 4, 4, 1, 2, 3, 4, 5, 3, 1, 1, 2, 3, 4, 1, 2, 3, 4, 1, 2, 3, 4, 1, 2, 3, 4, 5, 5], \"Freq\": [0.9775087237358093, 0.9969824552536011, 0.9985869526863098, 0.825286865234375, 0.0008970509516075253, 0.12199892848730087, 0.05113190412521362, 0.996756911277771, 0.9982515573501587, 0.9967051148414612, 0.0018984859343618155, 0.0018984859343618155, 0.9910715818405151, 0.9353482723236084, 0.02864435315132141, 0.03415288031101227, 0.002203411655500531, 0.6187267303466797, 0.37897011637687683, 0.9814268946647644, 0.9843544363975525, 0.9991070032119751, 0.9972958564758301, 0.0020520491525530815, 0.012399505823850632, 0.9795609712600708, 0.9211800694465637, 0.0017356195021420717, 0.07636725902557373, 0.00043390487553551793, 0.004968549590557814, 0.11427664011716843, 0.879433274269104, 0.9768960475921631, 0.9928454160690308, 0.9977392554283142, 0.9694454073905945, 0.06677436083555222, 0.9348410964012146, 0.9896278381347656, 0.9922299981117249, 0.9781635403633118, 0.9964130520820618, 0.9865049123764038, 0.986451268196106, 0.0097003523260355, 0.002984723774716258, 0.9784731268882751, 0.4398820698261261, 0.5553510785102844, 0.9877870082855225, 0.9942626953125, 0.9785686135292053, 0.9878745675086975, 0.9759498834609985, 0.01599917933344841, 0.9819562435150146, 0.994483232498169, 0.9873397350311279, 0.9602496027946472, 0.025269726291298866, 0.989665150642395, 0.990959644317627, 0.0038162758573889732, 0.0025441839825361967, 0.0025441839825361967, 0.9910638332366943, 0.995712399482727, 0.9971773028373718, 0.9923294186592102, 0.9957082867622375, 0.9785943031311035, 0.33526888489723206, 0.6642119288444519, 0.4135388433933258, 0.3903806507587433, 0.16541554033756256, 0.026466485112905502, 0.003308310639113188, 0.9696173667907715, 0.00440234923735261, 0.026414094492793083, 0.5143962502479553, 0.4832207262516022, 0.19321343302726746, 0.6723827123641968, 0.12365659326314926, 0.007728537078946829, 0.9751698970794678, 0.997426450252533, 0.248866006731987, 0.7465980052947998, 0.9933831691741943, 0.006757708266377449, 0.5697149634361267, 0.022919567301869392, 0.4060037434101105, 0.9830134510993958, 0.19736698269844055, 0.8002825975418091, 0.9807232618331909, 0.004173290450125933, 0.015302064828574657, 0.0013910967390984297, 0.5114244818687439, 0.48800045251846313, 0.9906386137008667, 0.16638733446598053, 0.8319366574287415, 0.9968085885047913, 0.9832088351249695, 0.48207345604896545, 0.030770646408200264, 0.48207345604896545, 0.9975745677947998, 0.7676399946212769, 0.22059756517410278, 0.010881494730710983, 0.381960391998291, 0.6169120073318481, 0.006132864858955145, 0.9935240745544434, 0.992100179195404, 0.9808641076087952, 0.9915981888771057, 0.14264295995235443, 0.8558577299118042, 0.9978259801864624, 0.9731892943382263, 0.12311287224292755, 0.8754693269729614, 0.9790354371070862, 0.010603271424770355, 0.007657918613404036, 0.0023562826681882143, 0.9994463324546814, 0.9887726902961731, 0.010380815714597702, 0.9984064102172852, 0.5848931670188904, 0.06364122778177261, 0.3485114574432373, 0.9944603443145752, 0.9834395051002502, 0.07305411249399185, 0.9253520369529724, 0.9768758416175842, 0.9883896112442017, 0.9951342940330505, 0.36334505677223206, 0.63665771484375, 0.9970964789390564, 0.9869022369384766, 0.9823898673057556, 0.0862865149974823, 0.9121717214584351, 0.9812787175178528, 0.9940431714057922, 0.9915499687194824, 0.20427870750427246, 0.7939889430999756, 0.9912155866622925, 0.7540286183357239, 0.24468478560447693, 0.0036806254647672176, 0.015949377790093422, 0.9790463447570801, 0.0012268751161172986, 0.9751688838005066, 0.01839941367506981, 0.9967353940010071, 0.9955949187278748, 0.013529296033084393, 0.9876386523246765, 0.5280110239982605, 0.4580336809158325, 0.006361579056829214, 0.9289166927337646, 0.008184287697076797, 0.004910572897642851, 0.05647158622741699, 0.0008184288162738085, 0.9926913976669312, 0.9938702583312988, 0.001141068059951067, 0.001141068059951067, 0.002282136119902134, 0.991586446762085, 0.5425287485122681, 0.4582851827144623, 0.9894866943359375, 0.21521753072738647, 0.7747831344604492, 0.9961355924606323, 0.9889348745346069, 0.9905647039413452, 0.9838396310806274, 0.9956586956977844, 0.0023454856127500534, 0.0011727428063750267, 0.9814519882202148, 0.6543008685112, 0.04846672713756561, 0.0026925960555672646, 0.2854151725769043, 0.010770384222269058, 0.9820786118507385, 0.990695595741272, 0.9825016856193542, 0.9793689250946045, 0.9701200723648071, 0.983725368976593, 0.4511106610298157, 0.40126416087150574, 0.13957014679908752, 0.007476971950381994, 0.9966735243797302, 0.997694194316864, 0.9940279126167297, 0.9834940433502197, 0.1653047800064087, 0.8336083889007568, 0.0011807484552264214, 0.9950984716415405, 0.4058454930782318, 0.5926632285118103, 0.9962424039840698, 0.9848138093948364, 0.9896050691604614, 0.9877483248710632, 0.9746062755584717, 0.9860660433769226, 0.012974553741514683, 0.012974553741514683, 0.19917604327201843, 0.7967041730880737, 0.9954208731651306, 0.0038138730451464653, 0.9763720035552979, 0.010848578065633774, 0.9884728789329529, 0.9117774367332458, 0.08288885653018951, 0.9915274977684021, 0.011065289378166199, 0.9848107099533081, 0.9967728853225708, 0.9946717023849487, 0.0018284405814483762, 0.0018284405814483762, 0.0018284405814483762, 0.20703116059303284, 0.5693356990814209, 0.22428375482559204, 0.9970263838768005, 0.9579780697822571, 0.02080751582980156, 0.009155306965112686, 0.010819908231496811, 0.0016646012663841248, 0.9945325255393982, 0.9962849020957947, 0.5667884349822998, 0.43213704228401184, 0.9950034022331238, 0.001700860564596951, 0.001700860564596951, 0.001700860564596951, 0.9887143969535828, 0.8902788162231445, 0.012484190054237843, 0.003901309333741665, 0.09285116195678711, 0.0007802618783898652, 0.9577754735946655, 0.03447560593485832, 0.006464176345616579, 0.807069718837738, 0.02553120255470276, 0.16595281660556793, 0.0014184002066031098, 0.8787682056427002, 0.08093917369842529, 0.03468821942806244, 0.030927646905183792, 0.9587571024894714, 0.012864380143582821, 0.012864380143582821, 0.9648284912109375, 0.9896206855773926, 0.9905052781105042, 0.0031645535491406918, 0.0031645535491406918, 0.0031645535491406918, 0.5877798795700073, 0.4114459156990051, 0.975794792175293, 0.7560428380966187, 0.20596091449260712, 0.03709854930639267, 0.4075382351875305, 0.004738816525787115, 0.5828744173049927, 0.9804252982139587, 0.9975652098655701, 0.002207002602517605, 0.9969509243965149, 0.9909643530845642, 0.9780868291854858, 0.13912555575370789, 0.8521440029144287, 0.9926285743713379, 0.9859079122543335, 0.44539541006088257, 0.5466216206550598, 0.0067484150640666485, 0.9890272617340088, 0.9769322276115417, 0.0021214596927165985, 0.01591094769537449, 0.005303649697452784, 0.9786586165428162, 0.5208820104598999, 0.47783392667770386, 0.705857515335083, 0.2906472086906433, 0.7772057056427002, 0.0019527781987562776, 0.22261670231819153, 0.9873281121253967, 0.9935677647590637, 0.9618000388145447, 0.010881984606385231, 0.022601045668125153, 0.004185378551483154, 0.9597193002700806, 0.037883657962083817, 0.965981125831604, 0.998504102230072, 0.9974072575569153, 0.9067710638046265, 0.00044125111890025437, 0.06221640855073929, 0.03000507690012455, 0.0008825022378005087, 0.9977640509605408, 0.9791711568832397, 0.9836297631263733, 0.936657190322876, 0.0408644936978817, 0.0172061026096344, 0.0043015256524086, 0.9991100430488586, 0.08178257197141647, 0.9112914800643921, 0.994245171546936, 0.9715337753295898, 0.8503826856613159, 0.0807020366191864, 0.06745245307683945, 0.001204508007504046, 0.9876080751419067, 0.9979261159896851, 0.0014317447785288095, 0.0014317447785288095, 0.25794410705566406, 0.7341486215591431, 0.009920927695930004, 0.9892363548278809, 0.9953752756118774, 0.0015951526584103703, 0.0015951526584103703, 0.9869412779808044, 0.9949132800102234, 0.016241466626524925, 0.9744880199432373, 0.9834433197975159, 0.9770839214324951, 0.014804301783442497, 0.9934741854667664, 0.9823013544082642, 0.10353980958461761, 0.8920353055000305, 0.407839298248291, 0.30018627643585205, 0.05796700716018677, 0.0745290070772171, 0.1594092696905136, 0.149690181016922, 0.8420072793960571, 0.9974383115768433, 0.9982789158821106, 0.9892013072967529, 0.9965189695358276, 0.48011094331741333, 0.010215125977993011, 0.5107563138008118, 0.8702733516693115, 0.12861774861812592, 0.9778707027435303, 0.018450390547513962, 0.9845229387283325, 0.9914361834526062, 0.9907786250114441, 0.9654654860496521, 0.22006624937057495, 0.7702319025993347, 0.9870752096176147, 0.14001716673374176, 0.858366072177887, 0.9525105953216553, 0.028394624590873718, 0.0025813295505940914, 0.016348421573638916, 0.0008604432223364711, 0.978435754776001, 0.0012657642364501953, 0.020252227783203125, 0.9238238334655762, 0.005852277856320143, 0.06771921366453171, 0.0025081189814954996, 0.987567663192749, 0.10284124314785004, 0.05713402479887009, 0.8379656672477722, 0.9959425330162048, 0.2586061656475067, 0.016684267669916153, 0.7174234986305237, 0.9911296367645264, 0.0055996025912463665, 0.0018665341194719076, 0.036797307431697845, 0.9640895128250122, 0.9961219429969788, 0.9560927152633667, 0.01648435741662979, 0.996276319026947, 0.0016716045793145895, 0.0016716045793145895, 0.9949085116386414, 0.00374730140902102, 0.00187365070451051, 0.9934391379356384, 0.0017835532780736685, 0.003567106556147337, 0.0017835532780736685, 0.975136399269104, 0.002435811096802354, 0.02192230150103569, 0.2281859666109085, 0.767534613609314, 0.9769474267959595, 0.014802233316004276, 0.9682185053825378, 0.017603972926735878, 0.9969990849494934, 0.9983957409858704, 0.9777989387512207, 0.8376717567443848, 0.1511167287826538, 0.009328193962574005, 0.9977595806121826, 0.9793494343757629, 0.9839901924133301, 0.9916243553161621, 0.5943590998649597, 0.0077189491130411625, 0.3936663866043091, 0.6467106342315674, 0.3527512550354004, 0.9978579878807068, 0.4424794614315033, 0.5569432973861694, 0.8894798755645752, 0.024001074954867363, 0.04176187142729759, 0.03456154838204384, 0.010560473427176476, 0.9945716261863708, 0.11153193563222885, 0.8868148922920227, 0.9747679233551025, 0.818176805973053, 0.054545119404792786, 0.12620243430137634, 0.9437469244003296, 0.0007519896025769413, 0.027071624994277954, 0.027823613956570625, 0.0015039792051538825, 0.9956318736076355, 0.0029283291660249233, 0.0014641645830124617, 0.9596971273422241, 0.0070501165464520454, 0.024675408378243446, 0.007931380532681942, 0.9910659193992615, 0.969843327999115, 0.004207563120871782, 0.02314159832894802, 0.002103781560435891, 0.9952608942985535, 0.001382306800223887, 0.001382306800223887, 0.001382306800223887, 0.9834396243095398, 0.9854422211647034, 0.998175859451294, 0.9958973526954651, 0.002278941450640559, 0.002278941450640559, 0.9778041243553162, 0.9521986842155457, 0.048652488738298416, 0.9938872456550598, 0.7729406356811523, 0.003207222558557987, 0.14111779630184174, 0.08258598297834396, 0.9785196781158447, 0.0017442418029531837, 0.0061048464849591255, 0.010465450584888458, 0.0026163626462221146, 0.8633625507354736, 0.1361629068851471, 0.982839047908783, 0.9979424476623535, 0.9885532259941101, 0.8635628819465637, 0.002200160175561905, 0.019801441580057144, 0.11440832912921906, 0.9919562935829163, 0.002810074482113123, 0.004215111490339041, 0.0014050372410565615, 0.8238002061843872, 0.00339012430049479, 0.1728963404893875, 0.9745810031890869, 0.006989822722971439, 0.014978191815316677, 0.002995638409629464, 0.9865559339523315, 0.8675112724304199, 0.0005614959518425167, 0.07467896491289139, 0.057272590696811676, 0.0005614959518425167, 0.9759551882743835, 0.9973008036613464, 0.7390909194946289, 0.24822299182415009, 0.0027890224009752274, 0.008367067202925682, 0.9108902215957642, 0.0032736395951360464, 0.033554807305336, 0.05319664254784584, 0.9869593381881714, 0.004141088109463453, 0.008282176218926907, 0.001380362780764699, 0.19124887883663177, 0.6215588450431824, 0.16516947746276855, 0.017386261373758316, 0.004346565343439579, 0.9863015413284302], \"Term\": [\"accident\", \"account\", \"action\", \"add\", \"add\", \"add\", \"add\", \"address\", \"admin\", \"agree\", \"agree\", \"agree\", \"align\", \"also\", \"also\", \"also\", \"also\", \"american\", \"american\", \"angry\", \"annoy\", \"answer\", \"anything\", \"anything\", \"arab\", \"arab\", \"article\", \"article\", \"article\", \"article\", \"as\", \"as\", \"as\", \"asian\", \"asshole\", \"attack\", \"aug\", \"awesome\", \"awesome\", \"ball\", \"bastard\", \"birthday\", \"bitch\", \"blind\", \"block\", \"block\", \"block\", \"britain\", \"british\", \"british\", \"buddy\", \"bunch\", \"bye\", \"calendar\", \"canadian\", \"canadian\", \"canvass\", \"card\", \"catch\", \"catholic\", \"catholic\", \"cell\", \"change\", \"change\", \"change\", \"change\", \"chart\", \"christmas\", \"clear\", \"clue\", \"cock\", \"cold\", \"color\", \"color\", \"com\", \"com\", \"com\", \"com\", \"com\", \"comment\", \"comment\", \"comment\", \"company\", \"company\", \"confirm\", \"confirm\", \"confirm\", \"confirm\", \"congrats\", \"consensus\", \"contest\", \"contest\", \"continue\", \"continue\", \"contribute\", \"contribute\", \"contribute\", \"copyedit\", \"copyright\", \"copyright\", \"could\", \"could\", \"could\", \"could\", \"country\", \"country\", \"crime\", \"criterion\", \"criterion\", \"cunt\", \"cyprus\", \"damn\", \"damn\", \"damn\", \"decide\", \"delete\", \"delete\", \"delete\", \"deletion\", \"deletion\", \"dick\", \"dick\", \"dirty\", \"division\", \"doc\", \"dude\", \"dude\", \"dyk\", \"earn\", \"east\", \"east\", \"edit\", \"edit\", \"edit\", \"edit\", \"editor\", \"edits\", \"edits\", \"else\", \"encyclopedia\", \"encyclopedia\", \"encyclopedia\", \"energy\", \"erase\", \"experiment\", \"experiment\", \"fac\", \"fag\", \"faggot\", \"fair\", \"fair\", \"faith\", \"fake\", \"fascist\", \"fat\", \"fat\", \"fatuorum\", \"feb\", \"feedback\", \"file\", \"file\", \"footnote\", \"free\", \"free\", \"fuck\", \"fuck\", \"fuck\", \"fuck\", \"fucker\", \"fucker\", \"fuckin\", \"gay\", \"genre\", \"genre\", \"german\", \"german\", \"german\", \"get\", \"get\", \"get\", \"get\", \"get\", \"gon\", \"good\", \"good\", \"good\", \"good\", \"greek\", \"guideline\", \"guideline\", \"gun\", \"hack\", \"hack\", \"happen\", \"harrassment\", \"header\", \"height\", \"help\", \"help\", \"help\", \"hero\", \"hey\", \"hey\", \"hey\", \"hey\", \"hey\", \"hitler\", \"hmm\", \"holla\", \"holocaust\", \"holy\", \"homo\", \"http\", \"http\", \"http\", \"http\", \"idea\", \"ignore\", \"iii\", \"illegal\", \"image\", \"image\", \"image\", \"imdb\", \"indicate\", \"indicate\", \"instead\", \"iran\", \"iranian\", \"islam\", \"islamic\", \"island\", \"island\", \"island\", \"israel\", \"israel\", \"issue\", \"issue\", \"jan\", \"jan\", \"japan\", \"japanese\", \"japanese\", \"jerk\", \"jew\", \"jew\", \"jpg\", \"keep\", \"keep\", \"keep\", \"keep\", \"kill\", \"kill\", \"kill\", \"kiss\", \"know\", \"know\", \"know\", \"know\", \"know\", \"korea\", \"korean\", \"learn\", \"learn\", \"let\", \"let\", \"let\", \"let\", \"license\", \"like\", \"like\", \"like\", \"like\", \"like\", \"link\", \"link\", \"link\", \"list\", \"list\", \"list\", \"list\", \"location\", \"location\", \"location\", \"logo\", \"logo\", \"loser\", \"loser\", \"loser\", \"macedonian\", \"make\", \"make\", \"make\", \"make\", \"map\", \"map\", \"massacre\", \"may\", \"may\", \"may\", \"medium\", \"medium\", \"medium\", \"merger\", \"might\", \"might\", \"mistake\", \"mom\", \"motherfucker\", \"muslim\", \"muslim\", \"na\", \"nasty\", \"national\", \"national\", \"national\", \"nationalist\", \"need\", \"need\", \"need\", \"need\", \"newsletter\", \"nonsense\", \"nonsense\", \"notable\", \"notable\", \"note\", \"note\", \"note\", \"notification\", \"obama\", \"one\", \"one\", \"one\", \"one\", \"opening\", \"opening\", \"opera\", \"opinion\", \"others\", \"page\", \"page\", \"page\", \"page\", \"page\", \"paragraph\", \"password\", \"patience\", \"people\", \"people\", \"people\", \"people\", \"personal\", \"pic\", \"pic\", \"ping\", \"plant\", \"please\", \"please\", \"please\", \"please\", \"png\", \"point\", \"point\", \"point\", \"population\", \"population\", \"population\", \"portal\", \"post\", \"post\", \"post\", \"president\", \"prick\", \"prod\", \"prod\", \"prose\", \"queen\", \"queen\", \"rape\", \"rat\", \"rationale\", \"rationale\", \"redirect\", \"redirect\", \"redirect\", \"redirect\", \"redirect\", \"redirects\", \"redirects\", \"relevant\", \"reply\", \"republican\", \"respond\", \"retard\", \"retard\", \"retard\", \"revert\", \"revert\", \"river\", \"river\", \"roll\", \"rollback\", \"royal\", \"rush\", \"russian\", \"russian\", \"saint\", \"sandbox\", \"sandbox\", \"say\", \"say\", \"say\", \"say\", \"say\", \"section\", \"section\", \"section\", \"see\", \"see\", \"see\", \"see\", \"shame\", \"shit\", \"shit\", \"shit\", \"shoot\", \"shut\", \"shut\", \"shut\", \"since\", \"since\", \"since\", \"sockpuppet\", \"sockpuppet\", \"sockpuppetry\", \"solution\", \"solution\", \"someone\", \"someone\", \"someone\", \"something\", \"something\", \"something\", \"sorry\", \"sorry\", \"sorry\", \"sorry\", \"source\", \"source\", \"source\", \"south\", \"south\", \"speaker\", \"speaker\", \"speed\", \"speed\", \"speedily\", \"speedy\", \"spoiler\", \"state\", \"state\", \"state\", \"statement\", \"statistic\", \"steve\", \"string\", \"stupid\", \"stupid\", \"stupid\", \"subject\", \"subject\", \"suck\", \"tag\", \"tag\", \"talk\", \"talk\", \"talk\", \"talk\", \"talk\", \"talkback\", \"test\", \"test\", \"texas\", \"thank\", \"thank\", \"thank\", \"thanks\", \"thanks\", \"thanks\", \"thanks\", \"thanks\", \"thing\", \"thing\", \"thing\", \"think\", \"think\", \"think\", \"think\", \"till\", \"time\", \"time\", \"time\", \"time\", \"try\", \"try\", \"try\", \"try\", \"turkish\", \"twat\", \"unblock\", \"understand\", \"understand\", \"understand\", \"unit\", \"upload\", \"upload\", \"uploaded\", \"use\", \"use\", \"use\", \"use\", \"user\", \"user\", \"user\", \"user\", \"user\", \"vandalism\", \"vandalism\", \"vertical\", \"view\", \"wan\", \"want\", \"want\", \"want\", \"want\", \"way\", \"way\", \"way\", \"way\", \"welcome\", \"welcome\", \"welcome\", \"well\", \"well\", \"well\", \"well\", \"width\", \"wikipedia\", \"wikipedia\", \"wikipedia\", \"wikipedia\", \"wikipedia\", \"williams\", \"wish\", \"world\", \"world\", \"world\", \"world\", \"would\", \"would\", \"would\", \"would\", \"write\", \"write\", \"write\", \"write\", \"www\", \"www\", \"www\", \"www\", \"www\", \"yep\"]}, \"R\": 30, \"lambda.step\": 0.01, \"plot.opts\": {\"xlab\": \"PC1\", \"ylab\": \"PC2\"}, \"topic.order\": [3, 1, 4, 5, 2]};\n",
       "\n",
       "function LDAvis_load_lib(url, callback){\n",
       "  var s = document.createElement('script');\n",
       "  s.src = url;\n",
       "  s.async = true;\n",
       "  s.onreadystatechange = s.onload = callback;\n",
       "  s.onerror = function(){console.warn(\"failed to load library \" + url);};\n",
       "  document.getElementsByTagName(\"head\")[0].appendChild(s);\n",
       "}\n",
       "\n",
       "if(typeof(LDAvis) !== \"undefined\"){\n",
       "   // already loaded: just create the visualization\n",
       "   !function(LDAvis){\n",
       "       new LDAvis(\"#\" + \"ldavis_el916191125099790486473746543\", ldavis_el916191125099790486473746543_data);\n",
       "   }(LDAvis);\n",
       "}else if(typeof define === \"function\" && define.amd){\n",
       "   // require.js is available: use it to load d3/LDAvis\n",
       "   require.config({paths: {d3: \"https://cdnjs.cloudflare.com/ajax/libs/d3/3.5.5/d3.min\"}});\n",
       "   require([\"d3\"], function(d3){\n",
       "      window.d3 = d3;\n",
       "      LDAvis_load_lib(\"https://cdn.rawgit.com/bmabey/pyLDAvis/files/ldavis.v1.0.0.js\", function(){\n",
       "        new LDAvis(\"#\" + \"ldavis_el916191125099790486473746543\", ldavis_el916191125099790486473746543_data);\n",
       "      });\n",
       "    });\n",
       "}else{\n",
       "    // require.js not available: dynamically load d3 & LDAvis\n",
       "    LDAvis_load_lib(\"https://cdnjs.cloudflare.com/ajax/libs/d3/3.5.5/d3.min.js\", function(){\n",
       "         LDAvis_load_lib(\"https://cdn.rawgit.com/bmabey/pyLDAvis/files/ldavis.v1.0.0.js\", function(){\n",
       "                 new LDAvis(\"#\" + \"ldavis_el916191125099790486473746543\", ldavis_el916191125099790486473746543_data);\n",
       "            })\n",
       "         });\n",
       "}\n",
       "</script>"
      ],
      "text/plain": [
       "<IPython.core.display.HTML object>"
      ]
     },
     "execution_count": 97,
     "metadata": {},
     "output_type": "execute_result"
    }
   ],
   "source": [
    "pyLDAvis.display(lda_display)"
   ]
  },
  {
   "cell_type": "markdown",
   "metadata": {},
   "source": [
    "- What we discussed earlier is even more clear in the visualization above. The toxic, obscene and insult comments are clustered together in blobs 3,4 and 5. Topic number 1 has got a place of its own, far from all the toxic blobs. It signifies that the clean comments are clearly distinct and _distant_ from the toxic comments.\n",
    "- Topic 2 is also maintaining a safe distance from topic 1 and the cluster of topics 3,4 and 5. One can definitely interpret this as the identity-hate or racist topic. Hover over the relevant terms in topic 2 to convince yourself that those words almost exclusively occur within topic 2.\n",
    "\n",
    "- Therefore one can safely conclude that the model has clustered away the toxic (and its sub-categories) features from the clean ones.\n",
    "\n",
    "**_Note: If the interactive visualisation doesn't show up in your browser, please view this url on Jupyter nbviewer._**\n"
   ]
  },
  {
   "cell_type": "markdown",
   "metadata": {},
   "source": [
    "## Find the topic of a new document from the test set"
   ]
  },
  {
   "cell_type": "markdown",
   "metadata": {},
   "source": [
    "Recall that LDA is a generative model. Given a document which the model has not seen before, it will assign a topic to it based ob the probability distribution of the words. Let's try it out with a document from the test set."
   ]
  },
  {
   "cell_type": "code",
   "execution_count": 119,
   "metadata": {},
   "outputs": [
    {
     "name": "stdout",
     "output_type": "stream",
     "text": [
      ":If WP:FICT is to be considered enforcable, it should be enforced on all articles that do not transcend their source material. If Lakitu can be an exception, and he doesn't transcend his source material, then that exception kills your idea that the idea of not transcending its source material is more important than quality and/or length. -\n"
     ]
    }
   ],
   "source": [
    "newdoc = test['comment_text'][np.random.choice(range(len(test)),size=1)[0]]\n",
    "print(newdoc)\n",
    "new_doc_bow = gensim_dict.doc2bow(word_tokenize(preprocess_comment(newdoc)))"
   ]
  },
  {
   "cell_type": "code",
   "execution_count": 120,
   "metadata": {},
   "outputs": [
    {
     "name": "stdout",
     "output_type": "stream",
     "text": [
      "[(3, 0.4567894), (0, 0.3663845), (1, 0.15978454)]\n"
     ]
    }
   ],
   "source": [
    "topic_proba_sorted = sorted(lda.get_document_topics(new_doc_bow),key = lambda row: row[1],reverse=True)\n",
    "print(topic_proba_sorted)\n",
    "ind_max_proba_topic = topic_proba_sorted[0][0]"
   ]
  },
  {
   "cell_type": "code",
   "execution_count": 121,
   "metadata": {},
   "outputs": [
    {
     "name": "stdout",
     "output_type": "stream",
     "text": [
      "Topic words for the given document:\n",
      " article, wikipedia, page, use, image, please, add, source, deletion, link\n"
     ]
    }
   ],
   "source": [
    "print('Topic words for the given document:\\n {}'.format(', '.join([row[0] for row in lda.show_topic(ind_max_proba_topic)])))"
   ]
  },
  {
   "cell_type": "markdown",
   "metadata": {},
   "source": [
    "- I would say it worked pretty well. It correctly identified the topic of the comment."
   ]
  }
 ],
 "metadata": {
  "kernelspec": {
   "display_name": "Python 3",
   "language": "python",
   "name": "python3"
  },
  "language_info": {
   "codemirror_mode": {
    "name": "ipython",
    "version": 3
   },
   "file_extension": ".py",
   "mimetype": "text/x-python",
   "name": "python",
   "nbconvert_exporter": "python",
   "pygments_lexer": "ipython3",
   "version": "3.6.9"
  }
 },
 "nbformat": 4,
 "nbformat_minor": 2
}
